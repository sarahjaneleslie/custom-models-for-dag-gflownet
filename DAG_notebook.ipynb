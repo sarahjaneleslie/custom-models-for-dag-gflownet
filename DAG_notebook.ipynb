{
  "nbformat": 4,
  "nbformat_minor": 0,
  "metadata": {
    "colab": {
      "provenance": []
    },
    "kernelspec": {
      "name": "python3",
      "display_name": "Python 3"
    },
    "language_info": {
      "name": "python"
    },
    "widgets": {
      "application/vnd.jupyter.widget-state+json": {
        "da92ffc7a1e54fedb1f20a45459606bf": {
          "model_module": "@jupyter-widgets/controls",
          "model_name": "HBoxModel",
          "model_module_version": "1.5.0",
          "state": {
            "_dom_classes": [],
            "_model_module": "@jupyter-widgets/controls",
            "_model_module_version": "1.5.0",
            "_model_name": "HBoxModel",
            "_view_count": null,
            "_view_module": "@jupyter-widgets/controls",
            "_view_module_version": "1.5.0",
            "_view_name": "HBoxView",
            "box_style": "",
            "children": [
              "IPY_MODEL_247508e6dfd5440f89ebcfec4da85e4e",
              "IPY_MODEL_40c41e1043c0419d9206bc1e9930e473",
              "IPY_MODEL_e8c51187ceac4d3eaad9126759a7fe49"
            ],
            "layout": "IPY_MODEL_8e414120cdcc41b5aae1a040dfba0367"
          }
        },
        "247508e6dfd5440f89ebcfec4da85e4e": {
          "model_module": "@jupyter-widgets/controls",
          "model_name": "HTMLModel",
          "model_module_version": "1.5.0",
          "state": {
            "_dom_classes": [],
            "_model_module": "@jupyter-widgets/controls",
            "_model_module_version": "1.5.0",
            "_model_name": "HTMLModel",
            "_view_count": null,
            "_view_module": "@jupyter-widgets/controls",
            "_view_module_version": "1.5.0",
            "_view_name": "HTMLView",
            "description": "",
            "description_tooltip": null,
            "layout": "IPY_MODEL_73ffc0e22bc34567a524c1a733304d4c",
            "placeholder": "​",
            "style": "IPY_MODEL_016db33219134da1a8018cba752a6b90",
            "value": "Sampling from posterior: 100%"
          }
        },
        "40c41e1043c0419d9206bc1e9930e473": {
          "model_module": "@jupyter-widgets/controls",
          "model_name": "FloatProgressModel",
          "model_module_version": "1.5.0",
          "state": {
            "_dom_classes": [],
            "_model_module": "@jupyter-widgets/controls",
            "_model_module_version": "1.5.0",
            "_model_name": "FloatProgressModel",
            "_view_count": null,
            "_view_module": "@jupyter-widgets/controls",
            "_view_module_version": "1.5.0",
            "_view_name": "ProgressView",
            "bar_style": "success",
            "description": "",
            "description_tooltip": null,
            "layout": "IPY_MODEL_8bde1aed959746adbb415a33ec8a6cdc",
            "max": 1000,
            "min": 0,
            "orientation": "horizontal",
            "style": "IPY_MODEL_51b17f6e4e0c403d96304232174b6d26",
            "value": 1000
          }
        },
        "e8c51187ceac4d3eaad9126759a7fe49": {
          "model_module": "@jupyter-widgets/controls",
          "model_name": "HTMLModel",
          "model_module_version": "1.5.0",
          "state": {
            "_dom_classes": [],
            "_model_module": "@jupyter-widgets/controls",
            "_model_module_version": "1.5.0",
            "_model_name": "HTMLModel",
            "_view_count": null,
            "_view_module": "@jupyter-widgets/controls",
            "_view_module_version": "1.5.0",
            "_view_name": "HTMLView",
            "description": "",
            "description_tooltip": null,
            "layout": "IPY_MODEL_ee516ce92829437f8bf85be01af777fd",
            "placeholder": "​",
            "style": "IPY_MODEL_f005b4bdb0874ac089116d812171eb59",
            "value": " 1000/1000 [00:16&lt;00:00, 82.87it/s]"
          }
        },
        "8e414120cdcc41b5aae1a040dfba0367": {
          "model_module": "@jupyter-widgets/base",
          "model_name": "LayoutModel",
          "model_module_version": "1.2.0",
          "state": {
            "_model_module": "@jupyter-widgets/base",
            "_model_module_version": "1.2.0",
            "_model_name": "LayoutModel",
            "_view_count": null,
            "_view_module": "@jupyter-widgets/base",
            "_view_module_version": "1.2.0",
            "_view_name": "LayoutView",
            "align_content": null,
            "align_items": null,
            "align_self": null,
            "border": null,
            "bottom": null,
            "display": null,
            "flex": null,
            "flex_flow": null,
            "grid_area": null,
            "grid_auto_columns": null,
            "grid_auto_flow": null,
            "grid_auto_rows": null,
            "grid_column": null,
            "grid_gap": null,
            "grid_row": null,
            "grid_template_areas": null,
            "grid_template_columns": null,
            "grid_template_rows": null,
            "height": null,
            "justify_content": null,
            "justify_items": null,
            "left": null,
            "margin": null,
            "max_height": null,
            "max_width": null,
            "min_height": null,
            "min_width": null,
            "object_fit": null,
            "object_position": null,
            "order": null,
            "overflow": null,
            "overflow_x": null,
            "overflow_y": null,
            "padding": null,
            "right": null,
            "top": null,
            "visibility": null,
            "width": null
          }
        },
        "73ffc0e22bc34567a524c1a733304d4c": {
          "model_module": "@jupyter-widgets/base",
          "model_name": "LayoutModel",
          "model_module_version": "1.2.0",
          "state": {
            "_model_module": "@jupyter-widgets/base",
            "_model_module_version": "1.2.0",
            "_model_name": "LayoutModel",
            "_view_count": null,
            "_view_module": "@jupyter-widgets/base",
            "_view_module_version": "1.2.0",
            "_view_name": "LayoutView",
            "align_content": null,
            "align_items": null,
            "align_self": null,
            "border": null,
            "bottom": null,
            "display": null,
            "flex": null,
            "flex_flow": null,
            "grid_area": null,
            "grid_auto_columns": null,
            "grid_auto_flow": null,
            "grid_auto_rows": null,
            "grid_column": null,
            "grid_gap": null,
            "grid_row": null,
            "grid_template_areas": null,
            "grid_template_columns": null,
            "grid_template_rows": null,
            "height": null,
            "justify_content": null,
            "justify_items": null,
            "left": null,
            "margin": null,
            "max_height": null,
            "max_width": null,
            "min_height": null,
            "min_width": null,
            "object_fit": null,
            "object_position": null,
            "order": null,
            "overflow": null,
            "overflow_x": null,
            "overflow_y": null,
            "padding": null,
            "right": null,
            "top": null,
            "visibility": null,
            "width": null
          }
        },
        "016db33219134da1a8018cba752a6b90": {
          "model_module": "@jupyter-widgets/controls",
          "model_name": "DescriptionStyleModel",
          "model_module_version": "1.5.0",
          "state": {
            "_model_module": "@jupyter-widgets/controls",
            "_model_module_version": "1.5.0",
            "_model_name": "DescriptionStyleModel",
            "_view_count": null,
            "_view_module": "@jupyter-widgets/base",
            "_view_module_version": "1.2.0",
            "_view_name": "StyleView",
            "description_width": ""
          }
        },
        "8bde1aed959746adbb415a33ec8a6cdc": {
          "model_module": "@jupyter-widgets/base",
          "model_name": "LayoutModel",
          "model_module_version": "1.2.0",
          "state": {
            "_model_module": "@jupyter-widgets/base",
            "_model_module_version": "1.2.0",
            "_model_name": "LayoutModel",
            "_view_count": null,
            "_view_module": "@jupyter-widgets/base",
            "_view_module_version": "1.2.0",
            "_view_name": "LayoutView",
            "align_content": null,
            "align_items": null,
            "align_self": null,
            "border": null,
            "bottom": null,
            "display": null,
            "flex": null,
            "flex_flow": null,
            "grid_area": null,
            "grid_auto_columns": null,
            "grid_auto_flow": null,
            "grid_auto_rows": null,
            "grid_column": null,
            "grid_gap": null,
            "grid_row": null,
            "grid_template_areas": null,
            "grid_template_columns": null,
            "grid_template_rows": null,
            "height": null,
            "justify_content": null,
            "justify_items": null,
            "left": null,
            "margin": null,
            "max_height": null,
            "max_width": null,
            "min_height": null,
            "min_width": null,
            "object_fit": null,
            "object_position": null,
            "order": null,
            "overflow": null,
            "overflow_x": null,
            "overflow_y": null,
            "padding": null,
            "right": null,
            "top": null,
            "visibility": null,
            "width": null
          }
        },
        "51b17f6e4e0c403d96304232174b6d26": {
          "model_module": "@jupyter-widgets/controls",
          "model_name": "ProgressStyleModel",
          "model_module_version": "1.5.0",
          "state": {
            "_model_module": "@jupyter-widgets/controls",
            "_model_module_version": "1.5.0",
            "_model_name": "ProgressStyleModel",
            "_view_count": null,
            "_view_module": "@jupyter-widgets/base",
            "_view_module_version": "1.2.0",
            "_view_name": "StyleView",
            "bar_color": null,
            "description_width": ""
          }
        },
        "ee516ce92829437f8bf85be01af777fd": {
          "model_module": "@jupyter-widgets/base",
          "model_name": "LayoutModel",
          "model_module_version": "1.2.0",
          "state": {
            "_model_module": "@jupyter-widgets/base",
            "_model_module_version": "1.2.0",
            "_model_name": "LayoutModel",
            "_view_count": null,
            "_view_module": "@jupyter-widgets/base",
            "_view_module_version": "1.2.0",
            "_view_name": "LayoutView",
            "align_content": null,
            "align_items": null,
            "align_self": null,
            "border": null,
            "bottom": null,
            "display": null,
            "flex": null,
            "flex_flow": null,
            "grid_area": null,
            "grid_auto_columns": null,
            "grid_auto_flow": null,
            "grid_auto_rows": null,
            "grid_column": null,
            "grid_gap": null,
            "grid_row": null,
            "grid_template_areas": null,
            "grid_template_columns": null,
            "grid_template_rows": null,
            "height": null,
            "justify_content": null,
            "justify_items": null,
            "left": null,
            "margin": null,
            "max_height": null,
            "max_width": null,
            "min_height": null,
            "min_width": null,
            "object_fit": null,
            "object_position": null,
            "order": null,
            "overflow": null,
            "overflow_x": null,
            "overflow_y": null,
            "padding": null,
            "right": null,
            "top": null,
            "visibility": null,
            "width": null
          }
        },
        "f005b4bdb0874ac089116d812171eb59": {
          "model_module": "@jupyter-widgets/controls",
          "model_name": "DescriptionStyleModel",
          "model_module_version": "1.5.0",
          "state": {
            "_model_module": "@jupyter-widgets/controls",
            "_model_module_version": "1.5.0",
            "_model_name": "DescriptionStyleModel",
            "_view_count": null,
            "_view_module": "@jupyter-widgets/base",
            "_view_module_version": "1.2.0",
            "_view_name": "StyleView",
            "description_width": ""
          }
        }
      }
    }
  },
  "cells": [
    {
      "cell_type": "code",
      "source": [
        "git clone https://github.com/tristandeleu/jax-dag-gflownet.git"
      ],
      "metadata": {
        "id": "j4nIM03xJzai"
      },
      "execution_count": null,
      "outputs": []
    },
    {
      "cell_type": "code",
      "source": [
        "#Do what you have to do to get to the right directory\n",
        "#data.py has to be replaced or this notebook won't run!\n",
        "%cd /content/drive/MyDrive/Colab Notebooks/jax-dag-gflownet-sprinklers"
      ],
      "metadata": {
        "colab": {
          "base_uri": "https://localhost:8080/"
        },
        "id": "WvnBDVQ0SQ38",
        "outputId": "cfb45a91-5df4-4396-a980-51f0a1cd13b8"
      },
      "execution_count": 2,
      "outputs": [
        {
          "output_type": "stream",
          "name": "stdout",
          "text": [
            "/content/drive/MyDrive/Colab Notebooks/jax-dag-gflownet-sprinklers\n"
          ]
        }
      ]
    },
    {
      "cell_type": "code",
      "source": [
        "!pip install -r requirements.txt"
      ],
      "metadata": {
        "colab": {
          "base_uri": "https://localhost:8080/"
        },
        "id": "lFgintWoRq1b",
        "outputId": "9406328e-d1d9-4774-ffc4-2af3b33e50ad"
      },
      "execution_count": 3,
      "outputs": [
        {
          "output_type": "stream",
          "name": "stdout",
          "text": [
            "Looking in indexes: https://pypi.org/simple, https://us-python.pkg.dev/colab-wheels/public/simple/\n",
            "Requirement already satisfied: numpy in /usr/local/lib/python3.10/dist-packages (from -r requirements.txt (line 1)) (1.22.4)\n",
            "Requirement already satisfied: scipy in /usr/local/lib/python3.10/dist-packages (from -r requirements.txt (line 2)) (1.10.1)\n",
            "Requirement already satisfied: jax in /usr/local/lib/python3.10/dist-packages (from -r requirements.txt (line 3)) (0.4.10)\n",
            "Requirement already satisfied: gym>=0.22.0 in /usr/local/lib/python3.10/dist-packages (from -r requirements.txt (line 4)) (0.25.2)\n",
            "Requirement already satisfied: pandas in /usr/local/lib/python3.10/dist-packages (from -r requirements.txt (line 5)) (1.5.3)\n",
            "Requirement already satisfied: dm-haiku in /usr/local/lib/python3.10/dist-packages (from -r requirements.txt (line 6)) (0.0.9)\n",
            "Requirement already satisfied: optax in /usr/local/lib/python3.10/dist-packages (from -r requirements.txt (line 7)) (0.1.5)\n",
            "Requirement already satisfied: pgmpy in /usr/local/lib/python3.10/dist-packages (from -r requirements.txt (line 8)) (0.1.22)\n",
            "Requirement already satisfied: networkx in /usr/local/lib/python3.10/dist-packages (from -r requirements.txt (line 9)) (3.1)\n",
            "Requirement already satisfied: tqdm in /usr/local/lib/python3.10/dist-packages (from -r requirements.txt (line 10)) (4.65.0)\n",
            "Requirement already satisfied: scikit-learn in /usr/local/lib/python3.10/dist-packages (from -r requirements.txt (line 11)) (1.2.2)\n",
            "Requirement already satisfied: ml-dtypes>=0.1.0 in /usr/local/lib/python3.10/dist-packages (from jax->-r requirements.txt (line 3)) (0.1.0)\n",
            "Requirement already satisfied: opt-einsum in /usr/local/lib/python3.10/dist-packages (from jax->-r requirements.txt (line 3)) (3.3.0)\n",
            "Requirement already satisfied: cloudpickle>=1.2.0 in /usr/local/lib/python3.10/dist-packages (from gym>=0.22.0->-r requirements.txt (line 4)) (2.2.1)\n",
            "Requirement already satisfied: gym-notices>=0.0.4 in /usr/local/lib/python3.10/dist-packages (from gym>=0.22.0->-r requirements.txt (line 4)) (0.0.8)\n",
            "Requirement already satisfied: python-dateutil>=2.8.1 in /usr/local/lib/python3.10/dist-packages (from pandas->-r requirements.txt (line 5)) (2.8.2)\n",
            "Requirement already satisfied: pytz>=2020.1 in /usr/local/lib/python3.10/dist-packages (from pandas->-r requirements.txt (line 5)) (2022.7.1)\n",
            "Requirement already satisfied: absl-py>=0.7.1 in /usr/local/lib/python3.10/dist-packages (from dm-haiku->-r requirements.txt (line 6)) (1.4.0)\n",
            "Requirement already satisfied: jmp>=0.0.2 in /usr/local/lib/python3.10/dist-packages (from dm-haiku->-r requirements.txt (line 6)) (0.0.4)\n",
            "Requirement already satisfied: tabulate>=0.8.9 in /usr/local/lib/python3.10/dist-packages (from dm-haiku->-r requirements.txt (line 6)) (0.8.10)\n",
            "Requirement already satisfied: chex>=0.1.5 in /usr/local/lib/python3.10/dist-packages (from optax->-r requirements.txt (line 7)) (0.1.7)\n",
            "Requirement already satisfied: jaxlib>=0.1.37 in /usr/local/lib/python3.10/dist-packages (from optax->-r requirements.txt (line 7)) (0.4.10+cuda11.cudnn86)\n",
            "Requirement already satisfied: pyparsing in /usr/local/lib/python3.10/dist-packages (from pgmpy->-r requirements.txt (line 8)) (3.0.9)\n",
            "Requirement already satisfied: torch in /usr/local/lib/python3.10/dist-packages (from pgmpy->-r requirements.txt (line 8)) (2.0.1+cu118)\n",
            "Requirement already satisfied: statsmodels in /usr/local/lib/python3.10/dist-packages (from pgmpy->-r requirements.txt (line 8)) (0.13.5)\n",
            "Requirement already satisfied: joblib in /usr/local/lib/python3.10/dist-packages (from pgmpy->-r requirements.txt (line 8)) (1.2.0)\n",
            "Requirement already satisfied: threadpoolctl>=2.0.0 in /usr/local/lib/python3.10/dist-packages (from scikit-learn->-r requirements.txt (line 11)) (3.1.0)\n",
            "Requirement already satisfied: dm-tree>=0.1.5 in /usr/local/lib/python3.10/dist-packages (from chex>=0.1.5->optax->-r requirements.txt (line 7)) (0.1.8)\n",
            "Requirement already satisfied: toolz>=0.9.0 in /usr/local/lib/python3.10/dist-packages (from chex>=0.1.5->optax->-r requirements.txt (line 7)) (0.12.0)\n",
            "Requirement already satisfied: typing-extensions>=4.2.0 in /usr/local/lib/python3.10/dist-packages (from chex>=0.1.5->optax->-r requirements.txt (line 7)) (4.5.0)\n",
            "Requirement already satisfied: six>=1.5 in /usr/local/lib/python3.10/dist-packages (from python-dateutil>=2.8.1->pandas->-r requirements.txt (line 5)) (1.16.0)\n",
            "Requirement already satisfied: patsy>=0.5.2 in /usr/local/lib/python3.10/dist-packages (from statsmodels->pgmpy->-r requirements.txt (line 8)) (0.5.3)\n",
            "Requirement already satisfied: packaging>=21.3 in /usr/local/lib/python3.10/dist-packages (from statsmodels->pgmpy->-r requirements.txt (line 8)) (23.1)\n",
            "Requirement already satisfied: filelock in /usr/local/lib/python3.10/dist-packages (from torch->pgmpy->-r requirements.txt (line 8)) (3.12.0)\n",
            "Requirement already satisfied: sympy in /usr/local/lib/python3.10/dist-packages (from torch->pgmpy->-r requirements.txt (line 8)) (1.11.1)\n",
            "Requirement already satisfied: jinja2 in /usr/local/lib/python3.10/dist-packages (from torch->pgmpy->-r requirements.txt (line 8)) (3.1.2)\n",
            "Requirement already satisfied: triton==2.0.0 in /usr/local/lib/python3.10/dist-packages (from torch->pgmpy->-r requirements.txt (line 8)) (2.0.0)\n",
            "Requirement already satisfied: cmake in /usr/local/lib/python3.10/dist-packages (from triton==2.0.0->torch->pgmpy->-r requirements.txt (line 8)) (3.25.2)\n",
            "Requirement already satisfied: lit in /usr/local/lib/python3.10/dist-packages (from triton==2.0.0->torch->pgmpy->-r requirements.txt (line 8)) (16.0.5)\n",
            "Requirement already satisfied: MarkupSafe>=2.0 in /usr/local/lib/python3.10/dist-packages (from jinja2->torch->pgmpy->-r requirements.txt (line 8)) (2.1.2)\n",
            "Requirement already satisfied: mpmath>=0.19 in /usr/local/lib/python3.10/dist-packages (from sympy->torch->pgmpy->-r requirements.txt (line 8)) (1.3.0)\n"
          ]
        }
      ]
    },
    {
      "cell_type": "code",
      "execution_count": 4,
      "metadata": {
        "id": "cCR_nBRZKUYa"
      },
      "outputs": [],
      "source": [
        "import jax.numpy as jnp\n",
        "import numpy as np\n",
        "import optax\n",
        "import networkx as nx\n",
        "import pickle\n",
        "import jax\n",
        "\n",
        "from tqdm import trange\n",
        "from numpy.random import default_rng\n",
        "\n",
        "from dag_gflownet.env import GFlowNetDAGEnv\n",
        "from dag_gflownet.gflownet import DAGGFlowNet\n",
        "from dag_gflownet.utils.replay_buffer import ReplayBuffer\n",
        "from dag_gflownet.utils.factories import get_scorer\n",
        "from dag_gflownet.utils.gflownet import posterior_estimate\n",
        "from dag_gflownet.utils.metrics import expected_shd, expected_edges, threshold_metrics\n",
        "from dag_gflownet.utils import io"
      ]
    },
    {
      "cell_type": "code",
      "source": [
        "from pgmpy.models import BayesianNetwork\n",
        "from pgmpy.factors.discrete import TabularCPD\n",
        "from pgmpy.sampling import BayesianModelSampling\n",
        "import pandas as pd\n",
        "from pathlib import Path\n",
        "import json\n",
        "import matplotlib.pyplot as plt\n"
      ],
      "metadata": {
        "colab": {
          "base_uri": "https://localhost:8080/"
        },
        "id": "40jyL4i7kSUM",
        "outputId": "605580d4-4aaf-4e61-895c-11220a459565"
      },
      "execution_count": 22,
      "outputs": [
        {
          "output_type": "stream",
          "name": "stderr",
          "text": [
            "/usr/local/lib/python3.10/dist-packages/ipykernel/ipkernel.py:283: DeprecationWarning: `should_run_async` will not call `transform_cell` automatically in the future. Please pass the result to `transformed_cell` argument and any exception that happen during thetransform in `preprocessing_exc_tuple` in IPython 7.17 and above.\n",
            "  and should_run_async(code)\n"
          ]
        }
      ]
    },
    {
      "cell_type": "markdown",
      "source": [
        "# Two utility function/class"
      ],
      "metadata": {
        "id": "Pf1Vc_2Fq7kQ"
      }
    },
    {
      "cell_type": "code",
      "source": [
        "#cut and pasted from train.py\n",
        "def main(args):\n",
        "    rng = default_rng(args.seed)\n",
        "    key = jax.random.PRNGKey(args.seed)\n",
        "    key, subkey = jax.random.split(key)\n",
        "\n",
        "    # Create the environment\n",
        "    scorer, data, graph = get_scorer(args, rng=rng)\n",
        "    env = GFlowNetDAGEnv(\n",
        "        num_envs=args.num_envs,\n",
        "        scorer=scorer,\n",
        "        num_workers=args.num_workers,\n",
        "        context=args.mp_context\n",
        "    )\n",
        "\n",
        "    # Create the replay buffer\n",
        "    replay = ReplayBuffer(\n",
        "        args.replay_capacity,\n",
        "        num_variables=env.num_variables\n",
        "    )\n",
        "\n",
        "    # Create the GFlowNet & initialize parameters\n",
        "    gflownet = DAGGFlowNet(\n",
        "        delta=args.delta,\n",
        "        update_target_every=args.update_target_every\n",
        "    )\n",
        "    optimizer = optax.adam(args.lr)\n",
        "    params, state = gflownet.init(\n",
        "        subkey,\n",
        "        optimizer,\n",
        "        replay.dummy['adjacency'],\n",
        "        replay.dummy['mask']\n",
        "    )\n",
        "    exploration_schedule = jax.jit(optax.linear_schedule(\n",
        "        init_value=jnp.array(0.),\n",
        "        end_value=jnp.array(1. - args.min_exploration),\n",
        "        transition_steps=args.num_iterations // 2,\n",
        "        transition_begin=args.prefill,\n",
        "    ))\n",
        "\n",
        "    # Training loop\n",
        "    indices = None\n",
        "    observations = env.reset()\n",
        "    with trange(args.prefill + args.num_iterations, desc='Training') as pbar:\n",
        "        for iteration in pbar:\n",
        "            # Sample actions, execute them, and save transitions in the replay buffer\n",
        "            epsilon = exploration_schedule(iteration)\n",
        "            actions, key, logs = gflownet.act(params.online, key, observations, epsilon)\n",
        "            next_observations, delta_scores, dones, _ = env.step(np.asarray(actions))\n",
        "            indices = replay.add(\n",
        "                observations,\n",
        "                actions,\n",
        "                logs['is_exploration'],\n",
        "                next_observations,\n",
        "                delta_scores,\n",
        "                dones,\n",
        "                prev_indices=indices\n",
        "            )\n",
        "            observations = next_observations\n",
        "\n",
        "            if iteration >= args.prefill:\n",
        "                # Update the parameters of the GFlowNet\n",
        "                samples = replay.sample(batch_size=args.batch_size, rng=rng)\n",
        "                params, state, logs = gflownet.step(params, state, samples)\n",
        "\n",
        "                pbar.set_postfix(loss=f\"{logs['loss']:.2f}\", epsilon=f\"{epsilon:.2f}\")\n",
        "\n",
        "    # Evaluate the posterior estimate\n",
        "    posterior, _ = posterior_estimate(\n",
        "        gflownet,\n",
        "        params.online,\n",
        "        env,\n",
        "        key,\n",
        "        num_samples=args.num_samples_posterior,\n",
        "        desc='Sampling from posterior'\n",
        "    )\n",
        "\n",
        "    # Compute the metrics\n",
        "    ground_truth = nx.to_numpy_array(graph, weight=None)\n",
        "    results = {\n",
        "        'expected_shd': expected_shd(posterior, ground_truth),\n",
        "        'expected_edges': expected_edges(posterior),\n",
        "        **threshold_metrics(posterior, ground_truth)\n",
        "    }\n",
        "\n",
        "    # Save model, data & results\n",
        "    args.output_folder.mkdir(exist_ok=True)\n",
        "    with open(args.output_folder / 'arguments.json', 'w') as f:\n",
        "        json.dump(vars(args), f, default=str)\n",
        "    data.to_csv(args.output_folder / 'data.csv')\n",
        "    with open(args.output_folder / 'graph.pkl', 'wb') as f:\n",
        "        pickle.dump(graph, f)\n",
        "    io.save(args.output_folder / 'model.npz', params=params.online)\n",
        "    replay.save(args.output_folder / 'replay_buffer.npz')\n",
        "    np.save(args.output_folder / 'posterior.npy', posterior)\n",
        "    with open(args.output_folder / 'results.json', 'w') as f:\n",
        "        json.dump(results, f, default=list)\n",
        "    \n",
        "    #added\n",
        "    print(results)\n"
      ],
      "metadata": {
        "id": "uPksuHuILDUw"
      },
      "execution_count": 6,
      "outputs": []
    },
    {
      "cell_type": "code",
      "source": [
        "#A hack to get around the fact they used ArgParser without having to modify every function ...\n",
        "class Args:\n",
        "     \n",
        "      def __init__(self, graph, model=None, samples=None, num_variables=5, num_edges=5,\n",
        "                   num_samples=100, score=\"bde\", num_envs=8, scorer_kwargs={}, prior=\"uniform\", prior_kwargs={},\n",
        "                   lr=1e-5,delta=1., batch_size=32, num_iterations=100000, replay_capacity=100000,\n",
        "                   prefill=1000,min_exploration=0.1, update_epsilon_every=10, num_samples_posterior=1000,\n",
        "                   update_target_every=1000, seed=0, num_workers=4, mp_context=\"spawn\",\n",
        "                   output_folder=\"output\"):\n",
        "          \n",
        "          self.graph=graph\n",
        "          self.model=model\n",
        "          self.samples=samples\n",
        "          self.num_variables = num_variables\n",
        "          self.num_edges = num_edges\n",
        "          self.num_samples = num_samples\n",
        "          self.score = score\n",
        "          self.num_envs = num_envs\n",
        "          self.scorer_kwargs = scorer_kwargs\n",
        "          self.prior = prior\n",
        "          self.prior_kwargs = prior_kwargs\n",
        "          self.lr = lr\n",
        "          self.delta = delta\n",
        "          self.batch_size = batch_size\n",
        "          self.num_iterations = num_iterations\n",
        "          self.replay_capacity = replay_capacity\n",
        "          self.prefill = prefill\n",
        "          self.min_exploration = min_exploration\n",
        "          self.update_epsilon_every = update_epsilon_every\n",
        "          self.num_samples_posterior = num_samples_posterior\n",
        "          self.update_target_every = update_target_every\n",
        "          self.seed = seed\n",
        "          self.num_workers = num_workers\n",
        "          self.mp_context = mp_context\n",
        "          self.output_folder = Path(output_folder)\n"
      ],
      "metadata": {
        "id": "sVuYITKGLM0-"
      },
      "execution_count": 7,
      "outputs": []
    },
    {
      "cell_type": "markdown",
      "source": [
        "# A simplified call to a train a GFlowNet\n",
        "A lot of functionality is masked for simplicity; see Args class above"
      ],
      "metadata": {
        "id": "u8n2QHuerg6v"
      }
    },
    {
      "cell_type": "code",
      "source": [
        "def train_gflownet(graph=\"custom\", model=None, samples=None, score=\"bde\", prior=\"uniform\",\n",
        "                   batch_size=32, num_iterations=10000, \n",
        "                   output_folder=\"output\"):\n",
        "    \n",
        "    args = Args(graph=graph, model=model, samples=samples, score=score, prior=prior, batch_size=batch_size, num_iterations=num_iterations,\n",
        "                   output_folder=output_folder)\n",
        "    main(args)"
      ],
      "metadata": {
        "id": "1Rvn8Fy_TTnM"
      },
      "execution_count": 24,
      "outputs": []
    },
    {
      "cell_type": "markdown",
      "source": [
        "# Generate samples from a discrete Bayesian network"
      ],
      "metadata": {
        "id": "zfHgCAZTrwQ8"
      }
    },
    {
      "cell_type": "code",
      "source": [
        "#cut and pasted, then slightly modified, from sample.py\n",
        "def sample_from_discrete(model, num_samples):\n",
        "    \"\"\"Sample from a discrete model using ancestral sampling.\"\"\"\n",
        "    if not isinstance(model, BayesianNetwork):\n",
        "        raise ValueError('The model must be an instance of BayesianNetwork')\n",
        "    sampler = BayesianModelSampling(model)\n",
        "    samples = sampler.forward_sample(size=num_samples, show_progress=False)\n",
        "\n",
        "    # Convert values to pd.Categorical for faster operations\n",
        "    for node in samples.columns:\n",
        "        cpd = model.get_cpds(node)\n",
        "        samples[node] = pd.Categorical(samples[node], categories=cpd.state_names[node])\n",
        "\n",
        "    return samples"
      ],
      "metadata": {
        "id": "2898a_vSkijR"
      },
      "execution_count": 10,
      "outputs": []
    },
    {
      "cell_type": "markdown",
      "source": [
        "# Get the posterior in a nice form"
      ],
      "metadata": {
        "id": "4dFrB6xcr9tQ"
      }
    },
    {
      "cell_type": "code",
      "source": [
        "def process_posterior(path, model):\n",
        "    posterior = np.load(path)\n",
        "    dags, count = np.unique(posterior, axis=0, return_counts=True)\n",
        "    dags = dags[np.argsort(count)][::-1]\n",
        "    count = np.sort(count)[::-1]\n",
        "\n",
        "    graphs = []\n",
        "    for i in range(dags.shape[0]):\n",
        "        graph = nx.from_numpy_array(dags[i], create_using=nx.DiGraph)\n",
        "        nx.relabel_nodes(graph, {i:label for i, label in enumerate(list(model.nodes))},copy=False)\n",
        "        graphs.append(graph)\n",
        "    \n",
        "    return dags, count, graphs"
      ],
      "metadata": {
        "colab": {
          "base_uri": "https://localhost:8080/"
        },
        "id": "r_R_S6kkjk24",
        "outputId": "936c6aac-fac9-4135-932c-a510d7f25ad3"
      },
      "execution_count": 15,
      "outputs": [
        {
          "output_type": "stream",
          "name": "stderr",
          "text": [
            "/usr/local/lib/python3.10/dist-packages/ipykernel/ipkernel.py:283: DeprecationWarning: `should_run_async` will not call `transform_cell` automatically in the future. Please pass the result to `transformed_cell` argument and any exception that happen during thetransform in `preprocessing_exc_tuple` in IPython 7.17 and above.\n",
            "  and should_run_async(code)\n"
          ]
        }
      ]
    },
    {
      "cell_type": "markdown",
      "source": [
        "# Graph the DAGs returned in the posterior"
      ],
      "metadata": {
        "id": "QMy2vu4MsDtK"
      }
    },
    {
      "cell_type": "code",
      "source": [
        "def graph_posterior(graphs, count, max_num=10):\n",
        "\n",
        "    #check this line\n",
        "    max_num = np.min([max_num,len(graphs)])\n",
        "\n",
        "    for i in range(max_num):\n",
        "        nx.draw_networkx(graphs[i])\n",
        "        print(f\"probability of graph: {count[i]/1000}\")\n",
        "        plt.show()\n",
        "        print(\"\\n\")\n",
        "        print(\"\\n\")"
      ],
      "metadata": {
        "id": "IAzxqY-9lZBj"
      },
      "execution_count": 20,
      "outputs": []
    },
    {
      "cell_type": "markdown",
      "source": [
        "# Now we can define a model using pgmpy and train on it pretty easily!"
      ],
      "metadata": {
        "id": "EQITenvWsKt_"
      }
    },
    {
      "cell_type": "code",
      "source": [
        "#R: Raining, S: Sprinker on, G: Grass wet. 0=no, 1=yes\n",
        "#G=0: grass is not wet; G=1: grass is wet\n",
        "model = BayesianNetwork([(\"R\",\"S\"),(\"S\",\"G\"),(\"R\",\"G\")])\n",
        "cpd_R = TabularCPD(variable=\"R\", variable_card=2, values=[[0.8],[0.2]])\n",
        "cpd_S = TabularCPD(variable=\"S\", variable_card=2, values=[[0.2,0.9],[0.8,0.1]], evidence=[\"R\"], evidence_card=[2])\n",
        "cpd_G = TabularCPD(variable=\"G\", variable_card=2, values=[[0.99,0.1,0.2,0.01],[0.01,0.9,0.8,0.99]], evidence=[\"R\", \"S\"], evidence_card=[2,2])\n",
        "model.add_cpds(cpd_R, cpd_S, cpd_G)"
      ],
      "metadata": {
        "id": "XVD30fsWkYj7"
      },
      "execution_count": 9,
      "outputs": []
    },
    {
      "cell_type": "code",
      "source": [
        "samples = sample_from_discrete(model,100)"
      ],
      "metadata": {
        "id": "cS_PWVNnlaej"
      },
      "execution_count": 11,
      "outputs": []
    },
    {
      "cell_type": "code",
      "source": [
        "train_gflownet(model=model,samples=samples, num_iterations=100,output_folder=\"test\")"
      ],
      "metadata": {
        "colab": {
          "base_uri": "https://localhost:8080/",
          "height": 324,
          "referenced_widgets": [
            "da92ffc7a1e54fedb1f20a45459606bf",
            "247508e6dfd5440f89ebcfec4da85e4e",
            "40c41e1043c0419d9206bc1e9930e473",
            "e8c51187ceac4d3eaad9126759a7fe49",
            "8e414120cdcc41b5aae1a040dfba0367",
            "73ffc0e22bc34567a524c1a733304d4c",
            "016db33219134da1a8018cba752a6b90",
            "8bde1aed959746adbb415a33ec8a6cdc",
            "51b17f6e4e0c403d96304232174b6d26",
            "ee516ce92829437f8bf85be01af777fd",
            "f005b4bdb0874ac089116d812171eb59"
          ]
        },
        "id": "ouL6GqnRlnIy",
        "outputId": "fa28d983-237b-444b-dd21-cefb840185f6"
      },
      "execution_count": 12,
      "outputs": [
        {
          "output_type": "stream",
          "name": "stderr",
          "text": [
            "WARNING:jax._src.xla_bridge:No GPU/TPU found, falling back to CPU. (Set TF_CPP_MIN_LOG_LEVEL=0 and rerun for more info.)\n",
            "/usr/local/lib/python3.10/dist-packages/gym/vector/vector_env.py:56: DeprecationWarning: \u001b[33mWARN: Initializing vector env in old step API which returns one bool array instead of two. It is recommended to set `new_step_api=True` to use new step API. This will be the default behaviour in future.\u001b[0m\n",
            "  deprecation(\n",
            "/usr/local/lib/python3.10/dist-packages/jax/_src/deprecations.py:51: DeprecationWarning: jax.xla is deprecated. Use jax.interpreters.xla\n",
            "  warnings.warn(message, DeprecationWarning)\n",
            "/usr/local/lib/python3.10/dist-packages/haiku/_src/attention.py:91: DeprecationWarning: w_init_scale is deprecated; please pass an explicit weight initialiser instead.\n",
            "  warnings.warn(\n",
            "Training:   0%|          | 0/1100 [00:00<?, ?it/s]/usr/local/lib/python3.10/dist-packages/haiku/_src/attention.py:91: DeprecationWarning: w_init_scale is deprecated; please pass an explicit weight initialiser instead.\n",
            "  warnings.warn(\n",
            "Training: 100%|██████████| 1100/1100 [03:19<00:00,  5.50it/s, epsilon=0.90, loss=4.71]\n"
          ]
        },
        {
          "output_type": "display_data",
          "data": {
            "text/plain": [
              "Sampling from posterior:   0%|          | 0/1000 [00:00<?, ?it/s]"
            ],
            "application/vnd.jupyter.widget-view+json": {
              "version_major": 2,
              "version_minor": 0,
              "model_id": "da92ffc7a1e54fedb1f20a45459606bf"
            }
          },
          "metadata": {}
        },
        {
          "output_type": "stream",
          "name": "stdout",
          "text": [
            "{'expected_shd': 1.573, 'expected_edges': 3.0, 'fpr': array([0.        , 0.16666667, 0.33333333, 0.33333333, 0.5       ,\n",
            "       0.5       , 1.        ]), 'tpr': array([0.        , 0.        , 0.        , 0.33333333, 0.33333333,\n",
            "       1.        , 1.        ]), 'roc_auc': 0.5555555555555556, 'precision': array([0.33333333, 0.5       , 0.4       , 0.25      , 0.33333333,\n",
            "       0.        , 0.        , 1.        ]), 'recall': array([1.        , 1.        , 0.66666667, 0.33333333, 0.33333333,\n",
            "       0.        , 0.        , 0.        ]), 'prc_auc': 0.3138888888888889, 'ave_prec': 0.41111111111111115}\n"
          ]
        }
      ]
    },
    {
      "cell_type": "markdown",
      "source": [
        "# Inspect the posterior"
      ],
      "metadata": {
        "id": "mVC7XYrdsX6B"
      }
    },
    {
      "cell_type": "code",
      "source": [
        "dags, count, graphs = process_posterior(\"test/posterior.npy\",model)"
      ],
      "metadata": {
        "id": "QS8iLhaSp5VB"
      },
      "execution_count": 17,
      "outputs": []
    },
    {
      "cell_type": "code",
      "source": [
        "dags"
      ],
      "metadata": {
        "colab": {
          "base_uri": "https://localhost:8080/"
        },
        "id": "uRc7RkbOqMeD",
        "outputId": "85d79daa-502f-42bf-d972-9b4038edc25e"
      },
      "execution_count": 18,
      "outputs": [
        {
          "output_type": "stream",
          "name": "stderr",
          "text": [
            "/usr/local/lib/python3.10/dist-packages/ipykernel/ipkernel.py:283: DeprecationWarning: `should_run_async` will not call `transform_cell` automatically in the future. Please pass the result to `transformed_cell` argument and any exception that happen during thetransform in `preprocessing_exc_tuple` in IPython 7.17 and above.\n",
            "  and should_run_async(code)\n"
          ]
        },
        {
          "output_type": "execute_result",
          "data": {
            "text/plain": [
              "array([[[0, 0, 0],\n",
              "        [1, 0, 0],\n",
              "        [1, 1, 0]],\n",
              "\n",
              "       [[0, 1, 1],\n",
              "        [0, 0, 1],\n",
              "        [0, 0, 0]],\n",
              "\n",
              "       [[0, 1, 0],\n",
              "        [0, 0, 0],\n",
              "        [1, 1, 0]],\n",
              "\n",
              "       [[0, 0, 0],\n",
              "        [1, 0, 1],\n",
              "        [1, 0, 0]],\n",
              "\n",
              "       [[0, 1, 1],\n",
              "        [0, 0, 0],\n",
              "        [0, 1, 0]],\n",
              "\n",
              "       [[0, 0, 1],\n",
              "        [1, 0, 1],\n",
              "        [0, 0, 0]]])"
            ]
          },
          "metadata": {},
          "execution_count": 18
        }
      ]
    },
    {
      "cell_type": "code",
      "source": [
        "count"
      ],
      "metadata": {
        "colab": {
          "base_uri": "https://localhost:8080/"
        },
        "id": "HVrfaaFtqN_o",
        "outputId": "4b04d5b6-4aee-4657-c7cf-2d60709b9022"
      },
      "execution_count": 19,
      "outputs": [
        {
          "output_type": "stream",
          "name": "stderr",
          "text": [
            "/usr/local/lib/python3.10/dist-packages/ipykernel/ipkernel.py:283: DeprecationWarning: `should_run_async` will not call `transform_cell` automatically in the future. Please pass the result to `transformed_cell` argument and any exception that happen during thetransform in `preprocessing_exc_tuple` in IPython 7.17 and above.\n",
            "  and should_run_async(code)\n"
          ]
        },
        {
          "output_type": "execute_result",
          "data": {
            "text/plain": [
              "array([243, 235, 169, 153, 115,  85])"
            ]
          },
          "metadata": {},
          "execution_count": 19
        }
      ]
    },
    {
      "cell_type": "code",
      "source": [
        "graph_posterior(graphs,count)"
      ],
      "metadata": {
        "colab": {
          "base_uri": "https://localhost:8080/",
          "height": 1000
        },
        "id": "wcAj4frsqUgJ",
        "outputId": "0a58b0fc-064f-4177-c096-ca2759857374"
      },
      "execution_count": 23,
      "outputs": [
        {
          "output_type": "stream",
          "name": "stdout",
          "text": [
            "probability of graph: 0.243\n"
          ]
        },
        {
          "output_type": "display_data",
          "data": {
            "text/plain": [
              "<Figure size 640x480 with 1 Axes>"
            ],
            "image/png": "[encoded data removed]"
          },
          "metadata": {}
        },
        {
          "output_type": "stream",
          "name": "stdout",
          "text": [
            "\n",
            "\n",
            "\n",
            "\n",
            "probability of graph: 0.235\n"
          ]
        },
        {
          "output_type": "display_data",
          "data": {
            "text/plain": [
              "<Figure size 640x480 with 1 Axes>"
            ],
            "image/png": "[encoded data removed]"
          },
          "metadata": {}
        },
        {
          "output_type": "stream",
          "name": "stdout",
          "text": [
            "\n",
            "\n",
            "\n",
            "\n",
            "probability of graph: 0.169\n"
          ]
        },
        {
          "output_type": "display_data",
          "data": {
            "text/plain": [
              "<Figure size 640x480 with 1 Axes>"
            ],
            "image/png": "[encoded data removed]"
          },
          "metadata": {}
        },
        {
          "output_type": "stream",
          "name": "stdout",
          "text": [
            "\n",
            "\n",
            "\n",
            "\n",
            "probability of graph: 0.153\n"
          ]
        },
        {
          "output_type": "display_data",
          "data": {
            "text/plain": [
              "<Figure size 640x480 with 1 Axes>"
            ],
            "image/png": "[encoded data removed]"
          },
          "metadata": {}
        },
        {
          "output_type": "stream",
          "name": "stdout",
          "text": [
            "\n",
            "\n",
            "\n",
            "\n",
            "probability of graph: 0.115\n"
          ]
        },
        {
          "output_type": "display_data",
          "data": {
            "text/plain": [
              "<Figure size 640x480 with 1 Axes>"
            ],
            "image/png": "[encoded data removed]"
          },
          "metadata": {}
        },
        {
          "output_type": "stream",
          "name": "stdout",
          "text": [
            "\n",
            "\n",
            "\n",
            "\n",
            "probability of graph: 0.085\n"
          ]
        },
        {
          "output_type": "display_data",
          "data": {
            "text/plain": [
              "<Figure size 640x480 with 1 Axes>"
            ],
            "image/png": "[encoded data removed]"
          },
          "metadata": {}
        },
        {
          "output_type": "stream",
          "name": "stdout",
          "text": [
            "\n",
            "\n",
            "\n",
            "\n"
          ]
        }
      ]
    }
  ]
}