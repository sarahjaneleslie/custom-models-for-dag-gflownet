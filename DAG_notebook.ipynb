{
  "cells": [
    {
      "cell_type": "code",
      "execution_count": 10,
      "metadata": {
        "colab": {
          "base_uri": "https://localhost:8080/"
        },
        "id": "lFgintWoRq1b",
        "outputId": "9406328e-d1d9-4774-ffc4-2af3b33e50ad"
      },
      "outputs": [],
      "source": [
        "#!pip install -r requirements.txt"
      ]
    },
    {
      "cell_type": "code",
      "execution_count": 1,
      "metadata": {
        "id": "cCR_nBRZKUYa"
      },
      "outputs": [
        {
          "name": "stderr",
          "output_type": "stream",
          "text": [
            "/Users/sjleslie/miniconda-jan3/envs/dag_gflownet/lib/python3.10/site-packages/tqdm/auto.py:21: TqdmWarning: IProgress not found. Please update jupyter and ipywidgets. See https://ipywidgets.readthedocs.io/en/stable/user_install.html\n",
            "  from .autonotebook import tqdm as notebook_tqdm\n"
          ]
        }
      ],
      "source": [
        "import jax\n",
        "import jax.numpy as jnp\n",
        "import numpy as np\n",
        "import optax\n",
        "import networkx as nx\n",
        "import pickle\n",
        "\n",
        "\n",
        "from tqdm import trange\n",
        "from numpy.random import default_rng\n",
        "\n",
        "from dag_gflownet.env import GFlowNetDAGEnv\n",
        "from dag_gflownet.gflownet import DAGGFlowNet\n",
        "from dag_gflownet.utils.replay_buffer import ReplayBuffer\n",
        "from dag_gflownet.utils.factories import get_scorer\n",
        "from dag_gflownet.utils.gflownet import posterior_estimate\n",
        "from dag_gflownet.utils.metrics import expected_shd, expected_edges, threshold_metrics\n",
        "from dag_gflownet.utils import io"
      ]
    },
    {
      "cell_type": "code",
      "execution_count": 2,
      "metadata": {
        "colab": {
          "base_uri": "https://localhost:8080/"
        },
        "id": "40jyL4i7kSUM",
        "outputId": "605580d4-4aaf-4e61-895c-11220a459565"
      },
      "outputs": [],
      "source": [
        "from pgmpy.models import BayesianNetwork\n",
        "from pgmpy.factors.discrete import TabularCPD\n",
        "from pgmpy.sampling import BayesianModelSampling\n",
        "import pandas as pd\n",
        "from pathlib import Path\n",
        "import json\n",
        "import matplotlib.pyplot as plt\n"
      ]
    },
    {
      "attachments": {},
      "cell_type": "markdown",
      "metadata": {
        "id": "Pf1Vc_2Fq7kQ"
      },
      "source": [
        "# Utilities\n",
        "Function main() is taken from train.py. \n",
        "Class Args is to get around the use of argparser in the original code and streamline the number of arguments"
      ]
    },
    {
      "cell_type": "code",
      "execution_count": 3,
      "metadata": {
        "id": "uPksuHuILDUw"
      },
      "outputs": [],
      "source": [
        "#from train.py\n",
        "#edited to allow for no ground truth\n",
        "def main(args):\n",
        "    rng = default_rng(args.seed)\n",
        "    key = jax.random.PRNGKey(args.seed)\n",
        "    key, subkey = jax.random.split(key)\n",
        "\n",
        "    # Create the environment\n",
        "    scorer, data, graph = get_scorer(args, rng=rng)\n",
        "    env = GFlowNetDAGEnv(\n",
        "        num_envs=args.num_envs,\n",
        "        scorer=scorer,\n",
        "        num_workers=args.num_workers,\n",
        "        context=args.mp_context\n",
        "    )\n",
        "\n",
        "    # Create the replay buffer\n",
        "    replay = ReplayBuffer(\n",
        "        args.replay_capacity,\n",
        "        num_variables=env.num_variables\n",
        "    )\n",
        "\n",
        "    # Create the GFlowNet & initialize parameters\n",
        "    gflownet = DAGGFlowNet(\n",
        "        delta=args.delta,\n",
        "        update_target_every=args.update_target_every\n",
        "    )\n",
        "    optimizer = optax.adam(args.lr)\n",
        "    params, state = gflownet.init(\n",
        "        subkey,\n",
        "        optimizer,\n",
        "        replay.dummy['adjacency'],\n",
        "        replay.dummy['mask']\n",
        "    )\n",
        "    exploration_schedule = jax.jit(optax.linear_schedule(\n",
        "        init_value=jnp.array(0.),\n",
        "        end_value=jnp.array(1. - args.min_exploration),\n",
        "        transition_steps=args.num_iterations // 2,\n",
        "        transition_begin=args.prefill,\n",
        "    ))\n",
        "\n",
        "    # Training loop\n",
        "    indices = None\n",
        "    observations = env.reset()\n",
        "    with trange(args.prefill + args.num_iterations, desc='Training') as pbar:\n",
        "        for iteration in pbar:\n",
        "            # Sample actions, execute them, and save transitions in the replay buffer\n",
        "            epsilon = exploration_schedule(iteration)\n",
        "            actions, key, logs = gflownet.act(params.online, key, observations, epsilon)\n",
        "            \n",
        "            next_observations, delta_scores, dones, _ = env.step(np.asarray(actions))\n",
        "            indices = replay.add(\n",
        "                observations,\n",
        "                actions,\n",
        "                logs['is_exploration'],\n",
        "                next_observations,\n",
        "                delta_scores,\n",
        "                dones,\n",
        "                prev_indices=indices\n",
        "            )\n",
        "            observations = next_observations\n",
        "\n",
        "            if iteration >= args.prefill:\n",
        "                # Update the parameters of the GFlowNet\n",
        "                samples = replay.sample(batch_size=args.batch_size, rng=rng)\n",
        "                params, state, logs = gflownet.step(params, state, samples)\n",
        "\n",
        "\n",
        "                pbar.set_postfix(loss=f\"{logs['loss']:.2f}\", epsilon=f\"{epsilon:.2f}\")\n",
        "\n",
        "    # Evaluate the posterior estimate\n",
        "    posterior, _ = posterior_estimate(\n",
        "        gflownet,\n",
        "        params.online,\n",
        "        env,\n",
        "        key,\n",
        "        num_samples=args.num_samples_posterior,\n",
        "        desc='Sampling from posterior'\n",
        "    )\n",
        "\n",
        "    # Compute the metrics\n",
        "    if graph is not None:\n",
        "        ground_truth = nx.to_numpy_array(graph, weight=None)\n",
        "        results = {\n",
        "            'expected_shd': expected_shd(posterior, ground_truth),\n",
        "            'expected_edges': expected_edges(posterior),\n",
        "            **threshold_metrics(posterior, ground_truth)\n",
        "        }\n",
        "    else:\n",
        "        results = \"No ground truth provided.\"        \n",
        "\n",
        "    # Save model, data & results\n",
        "    args.output_folder.mkdir(exist_ok=True)\n",
        "    with open(args.output_folder / 'arguments.json', 'w') as f:\n",
        "        json.dump(vars(args), f, default=str)\n",
        "    data.to_csv(args.output_folder / 'data.csv')\n",
        "    with open(args.output_folder / 'graph.pkl', 'wb') as f:\n",
        "        pickle.dump(graph, f)\n",
        "    io.save(args.output_folder / 'model.npz', params=params.online)\n",
        "    replay.save(args.output_folder / 'replay_buffer.npz')\n",
        "    np.save(args.output_folder / 'posterior.npy', posterior)\n",
        "    with open(args.output_folder / 'results.json', 'w') as f:\n",
        "        json.dump(results, f, default=list)\n",
        "    \n",
        "    #added\n",
        "    print(results)\n",
        "    \n"
      ]
    },
    {
      "cell_type": "code",
      "execution_count": 4,
      "metadata": {
        "id": "sVuYITKGLM0-"
      },
      "outputs": [],
      "source": [
        "#A hack to get around the fact they used ArgParser without having to modify every function ...\n",
        "class Args:\n",
        "     \n",
        "      def __init__(self, graph, model=None, samples=None, num_variables=5, num_edges=5,\n",
        "                   num_samples=100, score=\"bde\", num_envs=8, scorer_kwargs={}, prior=\"uniform\", prior_kwargs={},\n",
        "                   lr=1e-5,delta=1., batch_size=32, num_iterations=100000, replay_capacity=100000,\n",
        "                   prefill=1000,min_exploration=0.1, update_epsilon_every=10, num_samples_posterior=1000,\n",
        "                   update_target_every=1000, seed=0, num_workers=4, mp_context=\"spawn\",\n",
        "                   output_folder=\"output\"):\n",
        "          \n",
        "          self.graph=graph\n",
        "          self.model=model\n",
        "          self.samples=samples\n",
        "          self.num_variables = num_variables\n",
        "          self.num_edges = num_edges\n",
        "          self.num_samples = num_samples\n",
        "          self.score = score\n",
        "          self.num_envs = num_envs\n",
        "          self.scorer_kwargs = scorer_kwargs\n",
        "          self.prior = prior\n",
        "          self.prior_kwargs = prior_kwargs\n",
        "          self.lr = lr\n",
        "          self.delta = delta\n",
        "          self.batch_size = batch_size\n",
        "          self.num_iterations = num_iterations\n",
        "          self.replay_capacity = replay_capacity\n",
        "          self.prefill = prefill\n",
        "          self.min_exploration = min_exploration\n",
        "          self.update_epsilon_every = update_epsilon_every\n",
        "          self.num_samples_posterior = num_samples_posterior\n",
        "          self.update_target_every = update_target_every\n",
        "          self.seed = seed\n",
        "          self.num_workers = num_workers\n",
        "          self.mp_context = mp_context\n",
        "          self.output_folder = Path(output_folder)\n"
      ]
    },
    {
      "attachments": {},
      "cell_type": "markdown",
      "metadata": {
        "id": "u8n2QHuerg6v"
      },
      "source": [
        "### A simplified call to a train a GFlowNet\n",
        "A lot of functionality is masked for simplicity; see Args class above"
      ]
    },
    {
      "cell_type": "code",
      "execution_count": 5,
      "metadata": {
        "id": "1Rvn8Fy_TTnM"
      },
      "outputs": [],
      "source": [
        "def train_gflownet(graph=\"custom\", model=None, samples=None, score=\"bde\", prior=\"uniform\", prior_kwargs={},\n",
        "                   batch_size=32, num_iterations=10000, \n",
        "                   output_folder=\"output\"):\n",
        "    \n",
        "    args = Args(graph=graph, model=model, samples=samples, score=score, prior=prior, prior_kwargs=prior_kwargs, batch_size=batch_size, num_iterations=num_iterations,\n",
        "                   output_folder=output_folder)\n",
        "    main(args)"
      ]
    },
    {
      "attachments": {},
      "cell_type": "markdown",
      "metadata": {
        "id": "zfHgCAZTrwQ8"
      },
      "source": [
        "### Generate samples from a discrete Bayesian network"
      ]
    },
    {
      "cell_type": "code",
      "execution_count": 6,
      "metadata": {
        "id": "2898a_vSkijR"
      },
      "outputs": [],
      "source": [
        "#cut and pasted, then slightly modified, from sample.py\n",
        "def sample_from_discrete(model, num_samples):\n",
        "    \"\"\"Sample from a discrete model using ancestral sampling.\"\"\"\n",
        "    if not isinstance(model, BayesianNetwork):\n",
        "        raise ValueError('The model must be an instance of BayesianNetwork')\n",
        "    sampler = BayesianModelSampling(model)\n",
        "    samples = sampler.forward_sample(size=num_samples, show_progress=False)\n",
        "\n",
        "    # Convert values to pd.Categorical for faster operations\n",
        "    for node in samples.columns:\n",
        "        cpd = model.get_cpds(node)\n",
        "        samples[node] = pd.Categorical(samples[node], categories=cpd.state_names[node])\n",
        "\n",
        "    return samples"
      ]
    },
    {
      "attachments": {},
      "cell_type": "markdown",
      "metadata": {
        "id": "4dFrB6xcr9tQ"
      },
      "source": [
        "### Get the posterior in a nice form"
      ]
    },
    {
      "cell_type": "code",
      "execution_count": 7,
      "metadata": {
        "colab": {
          "base_uri": "https://localhost:8080/"
        },
        "id": "r_R_S6kkjk24",
        "outputId": "936c6aac-fac9-4135-932c-a510d7f25ad3"
      },
      "outputs": [],
      "source": [
        "def process_posterior(path, node_names):\n",
        "    posterior = np.load(path)\n",
        "    dags, count = np.unique(posterior, axis=0, return_counts=True)\n",
        "    dags = dags[np.argsort(count)][::-1]\n",
        "    count = np.sort(count)[::-1]\n",
        "\n",
        "    graphs = []\n",
        "    for i in range(dags.shape[0]):\n",
        "        graph = nx.from_numpy_array(dags[i], create_using=nx.DiGraph)\n",
        "        nx.relabel_nodes(graph, {i:label for i, label in enumerate(node_names)},copy=False)\n",
        "        graphs.append(graph)\n",
        "    \n",
        "    return dags, count, graphs"
      ]
    },
    {
      "attachments": {},
      "cell_type": "markdown",
      "metadata": {
        "id": "QMy2vu4MsDtK"
      },
      "source": [
        "### Graph the DAGs returned in the posterior"
      ]
    },
    {
      "cell_type": "code",
      "execution_count": 8,
      "metadata": {
        "id": "IAzxqY-9lZBj"
      },
      "outputs": [],
      "source": [
        "def graph_posterior(graphs, count, max_num=10):\n",
        "\n",
        "    #check this line\n",
        "    max_num = np.min([max_num,len(graphs)])\n",
        "\n",
        "    for i in range(max_num):\n",
        "        nx.draw_networkx(graphs[i])\n",
        "        print(f\"probability of graph: {count[i]/1000}\")\n",
        "        plt.show()\n",
        "        print(\"\\n\")\n",
        "        print(\"\\n\")"
      ]
    },
    {
      "attachments": {},
      "cell_type": "markdown",
      "metadata": {
        "id": "EQITenvWsKt_"
      },
      "source": [
        "## Now we can define a model using pgmpy and train on it pretty easily!"
      ]
    },
    {
      "cell_type": "code",
      "execution_count": 9,
      "metadata": {
        "id": "XVD30fsWkYj7"
      },
      "outputs": [
        {
          "name": "stderr",
          "output_type": "stream",
          "text": [
            "/var/folders/k8/n_2s8vh107ndn49xgmw8zhvh0000gn/T/ipykernel_59282/2207347324.py:5: DeprecationWarning: `product` is deprecated as of NumPy 1.25.0, and will be removed in NumPy 2.0. Please use `prod` instead.\n",
            "  cpd_S = TabularCPD(variable=\"S\", variable_card=2, values=[[0.2,0.9],[0.8,0.1]], evidence=[\"R\"], evidence_card=[2])\n",
            "/var/folders/k8/n_2s8vh107ndn49xgmw8zhvh0000gn/T/ipykernel_59282/2207347324.py:6: DeprecationWarning: `product` is deprecated as of NumPy 1.25.0, and will be removed in NumPy 2.0. Please use `prod` instead.\n",
            "  cpd_G = TabularCPD(variable=\"G\", variable_card=2, values=[[0.99,0.1,0.2,0.01],[0.01,0.9,0.8,0.99]], evidence=[\"R\", \"S\"], evidence_card=[2,2])\n"
          ]
        }
      ],
      "source": [
        "#R: Raining, S: Sprinker on, G: Grass wet. 0=no, 1=yes\n",
        "#G=0: grass is not wet; G=1: grass is wet\n",
        "model = BayesianNetwork([(\"R\",\"S\"),(\"S\",\"G\"),(\"R\",\"G\")])\n",
        "cpd_R = TabularCPD(variable=\"R\", variable_card=2, values=[[0.8],[0.2]])\n",
        "cpd_S = TabularCPD(variable=\"S\", variable_card=2, values=[[0.2,0.9],[0.8,0.1]], evidence=[\"R\"], evidence_card=[2])\n",
        "cpd_G = TabularCPD(variable=\"G\", variable_card=2, values=[[0.99,0.1,0.2,0.01],[0.01,0.9,0.8,0.99]], evidence=[\"R\", \"S\"], evidence_card=[2,2])\n",
        "model.add_cpds(cpd_R, cpd_S, cpd_G)"
      ]
    },
    {
      "cell_type": "code",
      "execution_count": 10,
      "metadata": {
        "id": "cS_PWVNnlaej"
      },
      "outputs": [],
      "source": [
        "samples = sample_from_discrete(model,100)"
      ]
    },
    {
      "cell_type": "markdown",
      "metadata": {},
      "source": [
        "## Now we define our prior. \n",
        "\n",
        "It should be an array of size (num_variables, num_variables). If the prior for a variable i causing a variable j is low, then arr[i,j] should be a moderately large negative number. If we are uncertain whether i causes j, then 0 is a good choice. \n",
        "\n",
        "I say moderate because very large negative numbers that swamp the likelihood part of the reward seemed to make it hard for the GFlowNet to train. \n",
        "\n",
        "In principle, we should be able to have a positive number in the array if our prior was high that i causes j, but I didn't test that."
      ]
    },
    {
      "cell_type": "code",
      "execution_count": 11,
      "metadata": {},
      "outputs": [],
      "source": [
        "logits_array = np.array([[0,0,0],[-1e2,0,0],[-1e2,-1e2,0]])"
      ]
    },
    {
      "cell_type": "markdown",
      "metadata": {},
      "source": [
        "## Train our model with a custom prior\n",
        "\n",
        "To use this, we set prior=\"custom_adj\" and pass in our logits_array as an entry in prior_kwargs."
      ]
    },
    {
      "cell_type": "code",
      "execution_count": 12,
      "metadata": {
        "colab": {
          "base_uri": "https://localhost:8080/",
          "height": 324,
          "referenced_widgets": [
            "da92ffc7a1e54fedb1f20a45459606bf",
            "247508e6dfd5440f89ebcfec4da85e4e",
            "40c41e1043c0419d9206bc1e9930e473",
            "e8c51187ceac4d3eaad9126759a7fe49",
            "8e414120cdcc41b5aae1a040dfba0367",
            "73ffc0e22bc34567a524c1a733304d4c",
            "016db33219134da1a8018cba752a6b90",
            "8bde1aed959746adbb415a33ec8a6cdc",
            "51b17f6e4e0c403d96304232174b6d26",
            "ee516ce92829437f8bf85be01af777fd",
            "f005b4bdb0874ac089116d812171eb59"
          ]
        },
        "id": "ouL6GqnRlnIy",
        "outputId": "fa28d983-237b-444b-dd21-cefb840185f6"
      },
      "outputs": [
        {
          "name": "stderr",
          "output_type": "stream",
          "text": [
            "Training: 100%|██████████| 11000/11000 [21:00<00:00,  8.73it/s, epsilon=0.90, loss=0.27]  \n",
            "Sampling from posterior: 100%|██████████| 1000/1000 [00:05<00:00, 182.39it/s]\n"
          ]
        },
        {
          "name": "stdout",
          "output_type": "stream",
          "text": [
            "{'expected_shd': 0.0, 'expected_edges': 3.0, 'fpr': array([0., 0., 1.]), 'tpr': array([0., 1., 1.]), 'roc_auc': 1.0, 'precision': array([0.33333333, 1.        , 1.        ]), 'recall': array([1., 1., 0.]), 'prc_auc': 1.0, 'ave_prec': 1.0}\n"
          ]
        }
      ],
      "source": [
        "train_gflownet(model=model,samples=samples, num_iterations=10000, prior=\"custom_adj\", prior_kwargs={\"logits_array\": logits_array}, output_folder=\"tests/test\")"
      ]
    },
    {
      "attachments": {},
      "cell_type": "markdown",
      "metadata": {
        "id": "mVC7XYrdsX6B"
      },
      "source": [
        "# Inspect the posterior"
      ]
    },
    {
      "cell_type": "code",
      "execution_count": 13,
      "metadata": {
        "id": "QS8iLhaSp5VB"
      },
      "outputs": [],
      "source": [
        "dags, count, graphs = process_posterior(\"tests/test/posterior.npy\",node_names=[\"R\",\"S\",\"G\"])"
      ]
    },
    {
      "cell_type": "code",
      "execution_count": 14,
      "metadata": {
        "colab": {
          "base_uri": "https://localhost:8080/"
        },
        "id": "uRc7RkbOqMeD",
        "outputId": "85d79daa-502f-42bf-d972-9b4038edc25e"
      },
      "outputs": [
        {
          "data": {
            "text/plain": [
              "array([[[0, 1, 1],\n",
              "        [0, 0, 1],\n",
              "        [0, 0, 0]]])"
            ]
          },
          "execution_count": 14,
          "metadata": {},
          "output_type": "execute_result"
        }
      ],
      "source": [
        "dags"
      ]
    },
    {
      "cell_type": "code",
      "execution_count": 15,
      "metadata": {
        "colab": {
          "base_uri": "https://localhost:8080/"
        },
        "id": "HVrfaaFtqN_o",
        "outputId": "4b04d5b6-4aee-4657-c7cf-2d60709b9022"
      },
      "outputs": [
        {
          "data": {
            "text/plain": [
              "array([1000])"
            ]
          },
          "execution_count": 15,
          "metadata": {},
          "output_type": "execute_result"
        }
      ],
      "source": [
        "count"
      ]
    },
    {
      "cell_type": "code",
      "execution_count": 16,
      "metadata": {
        "colab": {
          "base_uri": "https://localhost:8080/",
          "height": 1000
        },
        "id": "wcAj4frsqUgJ",
        "outputId": "0a58b0fc-064f-4177-c096-ca2759857374"
      },
      "outputs": [
        {
          "name": "stdout",
          "output_type": "stream",
          "text": [
            "probability of graph: 1.0\n"
          ]
        },
        {
          "data": {
            "image/png": "[encoded data removed]",
            "text/plain": [
              "<Figure size 640x480 with 1 Axes>"
            ]
          },
          "metadata": {},
          "output_type": "display_data"
        },
        {
          "name": "stdout",
          "output_type": "stream",
          "text": [
            "\n",
            "\n",
            "\n",
            "\n"
          ]
        }
      ],
      "source": [
        "graph_posterior(graphs,count)"
      ]
    },
    {
      "cell_type": "markdown",
      "metadata": {},
      "source": [
        "The prior seemed to work and faciliated recovering the ground truth in this simple example! Yay!\n",
        "\n",
        "### Inspecting scores"
      ]
    },
    {
      "cell_type": "code",
      "execution_count": 24,
      "metadata": {},
      "outputs": [],
      "source": [
        "from dag_gflownet.scores.bde_score import BDeScore"
      ]
    },
    {
      "cell_type": "code",
      "execution_count": 27,
      "metadata": {},
      "outputs": [],
      "source": [
        "args = Args(model=model, graph=\"custom\", samples=samples, num_iterations=10000, prior=\"custom_adj\", prior_kwargs={\"logits_array\": logits_array}, output_folder=\"tests/test\")\n",
        "scorer, _, _ = get_scorer(args)"
      ]
    },
    {
      "cell_type": "markdown",
      "metadata": {},
      "source": [
        "Use scorer.get_local_scores to compute the *difference* in scores as a result of adding an edge to the graph. In particular, we pass in as the first argument the index of the target node (thing being caused), and its previous set of parents before adding the new edge as the second argument. The third argument is the set of parents after we add the new edge. "
      ]
    },
    {
      "cell_type": "code",
      "execution_count": 29,
      "metadata": {},
      "outputs": [
        {
          "data": {
            "text/plain": [
              "(LocalScore(key=(1, (0,)), score=-43.34350580642707, prior=0.0),\n",
              " LocalScore(key=(1, (0, 2)), score=-25.58155115861723, prior=-100.0))"
            ]
          },
          "execution_count": 29,
          "metadata": {},
          "output_type": "execute_result"
        }
      ],
      "source": [
        "#Get the scores for first an edge from R (0) to S (1) \n",
        "#then for adding to that an edge from G (2) to S (1)\n",
        "\n",
        "scorer.get_local_scores(1, (0,), (0,2))"
      ]
    },
    {
      "cell_type": "code",
      "execution_count": 30,
      "metadata": {},
      "outputs": [
        {
          "data": {
            "text/plain": [
              "-82.23804535219017"
            ]
          },
          "execution_count": 30,
          "metadata": {},
          "output_type": "execute_result"
        }
      ],
      "source": [
        "#explicitly compute the delta in scores from adding the new edge\n",
        "score_before, score_after = scorer.get_local_scores(1, (0,), (0,2))\n",
        "\n",
        "delta_score = score_after.score + score_after.prior - (score_before.score + score_before.prior)\n",
        "delta_score"
      ]
    },
    {
      "cell_type": "markdown",
      "metadata": {},
      "source": [
        "Notice that this gives us the *delta* from adding the edge. It does not give us the score for the whole graph, because we didn't provide the necessary information for that, since get_local_scores only considers a single target, whereas a full graph probably has multiple target nodes. \n",
        "\n",
        "If a node previously had no edges coming to it, we can pass in a set of empty indices:"
      ]
    },
    {
      "cell_type": "code",
      "execution_count": 32,
      "metadata": {},
      "outputs": [
        {
          "data": {
            "text/plain": [
              "(LocalScore(key=(1, ()), score=-59.83706697228068, prior=0.0),\n",
              " LocalScore(key=(1, (0,)), score=-43.34350580642707, prior=0.0))"
            ]
          },
          "execution_count": 32,
          "metadata": {},
          "output_type": "execute_result"
        }
      ],
      "source": [
        "#Adding an edge from R (0) to S (1) where S previously had no parents\n",
        "scorer.get_local_scores(1, (), (0,))"
      ]
    },
    {
      "cell_type": "markdown",
      "metadata": {},
      "source": [
        "\n",
        "# NB: Below this point are old examples, with no customization of the prior. \n",
        "\n",
        "Some/all of it may be worth revisiting, so I kept it -- but it has NOT been updated."
      ]
    },
    {
      "attachments": {},
      "cell_type": "markdown",
      "metadata": {},
      "source": [
        "## See if DAG-GFlowNet can learn independence of nodes from small sample"
      ]
    },
    {
      "cell_type": "code",
      "execution_count": 44,
      "metadata": {},
      "outputs": [],
      "source": [
        "def format_samples(df,categories=[0,1]):\n",
        "    for node in df.columns:\n",
        "        df[node] = pd.Categorical(df[node], categories=categories)\n",
        "    return df"
      ]
    },
    {
      "cell_type": "code",
      "execution_count": 40,
      "metadata": {},
      "outputs": [
        {
          "data": {
            "text/html": [
              "<div>\n",
              "<style scoped>\n",
              "    .dataframe tbody tr th:only-of-type {\n",
              "        vertical-align: middle;\n",
              "    }\n",
              "\n",
              "    .dataframe tbody tr th {\n",
              "        vertical-align: top;\n",
              "    }\n",
              "\n",
              "    .dataframe thead th {\n",
              "        text-align: right;\n",
              "    }\n",
              "</style>\n",
              "<table border=\"1\" class=\"dataframe\">\n",
              "  <thead>\n",
              "    <tr style=\"text-align: right;\">\n",
              "      <th></th>\n",
              "      <th>R</th>\n",
              "      <th>S</th>\n",
              "    </tr>\n",
              "  </thead>\n",
              "  <tbody>\n",
              "    <tr>\n",
              "      <th>0</th>\n",
              "      <td>1</td>\n",
              "      <td>1</td>\n",
              "    </tr>\n",
              "    <tr>\n",
              "      <th>1</th>\n",
              "      <td>0</td>\n",
              "      <td>1</td>\n",
              "    </tr>\n",
              "    <tr>\n",
              "      <th>2</th>\n",
              "      <td>1</td>\n",
              "      <td>0</td>\n",
              "    </tr>\n",
              "    <tr>\n",
              "      <th>3</th>\n",
              "      <td>0</td>\n",
              "      <td>0</td>\n",
              "    </tr>\n",
              "  </tbody>\n",
              "</table>\n",
              "</div>"
            ],
            "text/plain": [
              "   R  S\n",
              "0  1  1\n",
              "1  0  1\n",
              "2  1  0\n",
              "3  0  0"
            ]
          },
          "execution_count": 40,
          "metadata": {},
          "output_type": "execute_result"
        }
      ],
      "source": [
        "#Create small set of samples reflecting independence of R and S\n",
        "independent = pd.DataFrame(np.array([[1,1],[0,1],[1,0],[0,0]]), columns=['R', 'S'])\n",
        "\n",
        "#Get it in the right format\n",
        "for node in independent.columns:\n",
        "    independent[node] = pd.Categorical(independent[node], categories=[0,1])\n",
        "\n",
        "independent"
      ]
    },
    {
      "cell_type": "code",
      "execution_count": 41,
      "metadata": {},
      "outputs": [
        {
          "name": "stdout",
          "output_type": "stream",
          "text": [
            "-6.085173445545335\n",
            "-6.085173445545335\n",
            "-5.89588321943528\n"
          ]
        }
      ],
      "source": [
        "print(BDeuScore(independent).score(BayesianNetwork([(\"R\",\"S\")])))\n",
        "print(BDeuScore(independent).score(BayesianNetwork([(\"S\",\"R\")])))\n",
        "no_edges = BayesianNetwork()\n",
        "no_edges.add_nodes_from([\"R\",\"S\"])\n",
        "print(BDeuScore(independent).score(no_edges))"
      ]
    },
    {
      "cell_type": "code",
      "execution_count": 42,
      "metadata": {},
      "outputs": [
        {
          "name": "stderr",
          "output_type": "stream",
          "text": [
            "Training: 100%|██████████| 3000/3000 [03:48<00:00, 13.15it/s, epsilon=0.90, loss=0.00]\n",
            "Sampling from posterior: 100%|██████████| 1000/1000 [00:01<00:00, 811.59it/s]"
          ]
        },
        {
          "name": "stdout",
          "output_type": "stream",
          "text": [
            "No ground truth provided.\n"
          ]
        },
        {
          "name": "stderr",
          "output_type": "stream",
          "text": [
            "\n"
          ]
        }
      ],
      "source": [
        "train_gflownet(model=None,samples=independent, num_iterations=2000,output_folder=\"tests/test3\")"
      ]
    },
    {
      "attachments": {},
      "cell_type": "markdown",
      "metadata": {},
      "source": [
        "### Not terrible!"
      ]
    },
    {
      "cell_type": "code",
      "execution_count": 56,
      "metadata": {},
      "outputs": [
        {
          "name": "stdout",
          "output_type": "stream",
          "text": [
            "probability of graph: 0.625\n"
          ]
        },
        {
          "data": {
            "image/png": "[encoded data removed]",
            "text/plain": [
              "<Figure size 640x480 with 1 Axes>"
            ]
          },
          "metadata": {},
          "output_type": "display_data"
        },
        {
          "name": "stdout",
          "output_type": "stream",
          "text": [
            "\n",
            "\n",
            "\n",
            "\n",
            "probability of graph: 0.203\n"
          ]
        },
        {
          "data": {
            "image/png": "[encoded data removed]",
            "text/plain": [
              "<Figure size 640x480 with 1 Axes>"
            ]
          },
          "metadata": {},
          "output_type": "display_data"
        },
        {
          "name": "stdout",
          "output_type": "stream",
          "text": [
            "\n",
            "\n",
            "\n",
            "\n",
            "probability of graph: 0.172\n"
          ]
        },
        {
          "data": {
            "image/png": "[encoded data removed]",
            "text/plain": [
              "<Figure size 640x480 with 1 Axes>"
            ]
          },
          "metadata": {},
          "output_type": "display_data"
        },
        {
          "name": "stdout",
          "output_type": "stream",
          "text": [
            "\n",
            "\n",
            "\n",
            "\n"
          ]
        }
      ],
      "source": [
        "dags, count, graphs = process_posterior(\"tests/test3/posterior.npy\",node_names=[\"R\",\"S\"])\n",
        "graph_posterior(graphs,count)"
      ]
    },
    {
      "attachments": {},
      "cell_type": "markdown",
      "metadata": {},
      "source": [
        "## Ignore\n",
        "\n",
        "Backwards Blocking Blickets -- makes no sense with uniform prior. Will revisit when I customize priors; see below."
      ]
    },
    {
      "cell_type": "code",
      "execution_count": 48,
      "metadata": {},
      "outputs": [
        {
          "data": {
            "text/html": [
              "<div>\n",
              "<style scoped>\n",
              "    .dataframe tbody tr th:only-of-type {\n",
              "        vertical-align: middle;\n",
              "    }\n",
              "\n",
              "    .dataframe tbody tr th {\n",
              "        vertical-align: top;\n",
              "    }\n",
              "\n",
              "    .dataframe thead th {\n",
              "        text-align: right;\n",
              "    }\n",
              "</style>\n",
              "<table border=\"1\" class=\"dataframe\">\n",
              "  <thead>\n",
              "    <tr style=\"text-align: right;\">\n",
              "      <th></th>\n",
              "      <th>Object1</th>\n",
              "      <th>Object2</th>\n",
              "      <th>Machine</th>\n",
              "    </tr>\n",
              "  </thead>\n",
              "  <tbody>\n",
              "    <tr>\n",
              "      <th>0</th>\n",
              "      <td>0</td>\n",
              "      <td>0</td>\n",
              "      <td>0</td>\n",
              "    </tr>\n",
              "    <tr>\n",
              "      <th>1</th>\n",
              "      <td>0</td>\n",
              "      <td>0</td>\n",
              "      <td>0</td>\n",
              "    </tr>\n",
              "    <tr>\n",
              "      <th>2</th>\n",
              "      <td>0</td>\n",
              "      <td>0</td>\n",
              "      <td>0</td>\n",
              "    </tr>\n",
              "    <tr>\n",
              "      <th>3</th>\n",
              "      <td>0</td>\n",
              "      <td>0</td>\n",
              "      <td>0</td>\n",
              "    </tr>\n",
              "    <tr>\n",
              "      <th>4</th>\n",
              "      <td>1</td>\n",
              "      <td>1</td>\n",
              "      <td>1</td>\n",
              "    </tr>\n",
              "    <tr>\n",
              "      <th>5</th>\n",
              "      <td>1</td>\n",
              "      <td>0</td>\n",
              "      <td>1</td>\n",
              "    </tr>\n",
              "  </tbody>\n",
              "</table>\n",
              "</div>"
            ],
            "text/plain": [
              "  Object1 Object2 Machine\n",
              "0       0       0       0\n",
              "1       0       0       0\n",
              "2       0       0       0\n",
              "3       0       0       0\n",
              "4       1       1       1\n",
              "5       1       0       1"
            ]
          },
          "execution_count": 48,
          "metadata": {},
          "output_type": "execute_result"
        }
      ],
      "source": [
        "blickets = pd.DataFrame(np.array([[0,0,0],[0,0,0],[0,0,0],[0,0,0],[1,1,1],[1,0,1]]), columns=['Object1', 'Object2', 'Machine'])\n",
        "blickets = format_samples(blickets)\n",
        "blickets"
      ]
    },
    {
      "cell_type": "code",
      "execution_count": 49,
      "metadata": {},
      "outputs": [
        {
          "name": "stderr",
          "output_type": "stream",
          "text": [
            "Training: 100%|██████████| 6000/6000 [11:31<00:00,  8.68it/s, epsilon=0.90, loss=0.00]  \n",
            "Sampling from posterior: 100%|██████████| 1000/1000 [00:04<00:00, 223.36it/s]"
          ]
        },
        {
          "name": "stdout",
          "output_type": "stream",
          "text": [
            "No ground truth provided.\n"
          ]
        },
        {
          "name": "stderr",
          "output_type": "stream",
          "text": [
            "\n"
          ]
        }
      ],
      "source": [
        "train_gflownet(model=None,samples=blickets, num_iterations=5000,output_folder=\"test4\")"
      ]
    },
    {
      "cell_type": "code",
      "execution_count": 57,
      "metadata": {},
      "outputs": [
        {
          "name": "stdout",
          "output_type": "stream",
          "text": [
            "probability of graph: 0.092\n"
          ]
        },
        {
          "data": {
            "image/png": "[encoded data removed]",
            "text/plain": [
              "<Figure size 640x480 with 1 Axes>"
            ]
          },
          "metadata": {},
          "output_type": "display_data"
        },
        {
          "name": "stdout",
          "output_type": "stream",
          "text": [
            "\n",
            "\n",
            "\n",
            "\n",
            "probability of graph: 0.087\n"
          ]
        },
        {
          "data": {
            "image/png": "[encoded data removed]",
            "text/plain": [
              "<Figure size 640x480 with 1 Axes>"
            ]
          },
          "metadata": {},
          "output_type": "display_data"
        },
        {
          "name": "stdout",
          "output_type": "stream",
          "text": [
            "\n",
            "\n",
            "\n",
            "\n",
            "probability of graph: 0.084\n"
          ]
        },
        {
          "data": {
            "image/png": "[encoded data removed]",
            "text/plain": [
              "<Figure size 640x480 with 1 Axes>"
            ]
          },
          "metadata": {},
          "output_type": "display_data"
        },
        {
          "name": "stdout",
          "output_type": "stream",
          "text": [
            "\n",
            "\n",
            "\n",
            "\n",
            "probability of graph: 0.083\n"
          ]
        },
        {
          "data": {
            "image/png": "[encoded data removed]",
            "text/plain": [
              "<Figure size 640x480 with 1 Axes>"
            ]
          },
          "metadata": {},
          "output_type": "display_data"
        },
        {
          "name": "stdout",
          "output_type": "stream",
          "text": [
            "\n",
            "\n",
            "\n",
            "\n",
            "probability of graph: 0.079\n"
          ]
        },
        {
          "data": {
            "image/png": "[encoded data removed]",
            "text/plain": [
              "<Figure size 640x480 with 1 Axes>"
            ]
          },
          "metadata": {},
          "output_type": "display_data"
        },
        {
          "name": "stdout",
          "output_type": "stream",
          "text": [
            "\n",
            "\n",
            "\n",
            "\n",
            "probability of graph: 0.079\n"
          ]
        },
        {
          "data": {
            "image/png": "[encoded data removed]",
            "text/plain": [
              "<Figure size 640x480 with 1 Axes>"
            ]
          },
          "metadata": {},
          "output_type": "display_data"
        },
        {
          "name": "stdout",
          "output_type": "stream",
          "text": [
            "\n",
            "\n",
            "\n",
            "\n",
            "probability of graph: 0.068\n"
          ]
        },
        {
          "data": {
            "image/png": "[encoded data removed]",
            "text/plain": [
              "<Figure size 640x480 with 1 Axes>"
            ]
          },
          "metadata": {},
          "output_type": "display_data"
        },
        {
          "name": "stdout",
          "output_type": "stream",
          "text": [
            "\n",
            "\n",
            "\n",
            "\n",
            "probability of graph: 0.058\n"
          ]
        },
        {
          "data": {
            "image/png": "[encoded data removed]",
            "text/plain": [
              "<Figure size 640x480 with 1 Axes>"
            ]
          },
          "metadata": {},
          "output_type": "display_data"
        },
        {
          "name": "stdout",
          "output_type": "stream",
          "text": [
            "\n",
            "\n",
            "\n",
            "\n",
            "probability of graph: 0.057\n"
          ]
        },
        {
          "data": {
            "image/png": "[encoded data removed]",
            "text/plain": [
              "<Figure size 640x480 with 1 Axes>"
            ]
          },
          "metadata": {},
          "output_type": "display_data"
        },
        {
          "name": "stdout",
          "output_type": "stream",
          "text": [
            "\n",
            "\n",
            "\n",
            "\n",
            "probability of graph: 0.056\n"
          ]
        },
        {
          "data": {
            "image/png": "[encoded data removed]",
            "text/plain": [
              "<Figure size 640x480 with 1 Axes>"
            ]
          },
          "metadata": {},
          "output_type": "display_data"
        },
        {
          "name": "stdout",
          "output_type": "stream",
          "text": [
            "\n",
            "\n",
            "\n",
            "\n"
          ]
        }
      ],
      "source": [
        "dags, count, graphs = process_posterior(\"test4/posterior.npy\",node_names=[\"Object1\",\"Object2\",\"Machine\"])\n",
        "graph_posterior(graphs,count)"
      ]
    },
    {
      "attachments": {},
      "cell_type": "markdown",
      "metadata": {},
      "source": [
        "# DAG-GFlowNet on Tennenbaum and Griffiths 2001\n",
        "\n",
        "T&G 2001 analyze people's causal inferences based on contingency information. They present a model that predicts with great accuracy people's causal judgments. Can DAG-GFlowNet replicate this?\n",
        "\n",
        "## NB: This is not really a fair test\n",
        "\n",
        "The priors are uniform in DAG-GFlowNet, and people's priors are not uniform in the same way. E.g., DAG_GFlownet's prior considers it equally probable that the effect would cause the cause. In the analysis below I collapse both causal models and just consider whether DAG-GFlowNet represents any causal relationship or not. But this is not the best approach (at first I thought it wouldn't matter because they are Markov Equivalent, but I realize it might affect how DAG-GFlowNet samples the posterior).\n",
        "\n",
        "(Also, T&G use the log odds scale and then do some further non-linear transformations on the output of their model. I don't quite have my mind around why that's justified, but I'll think more about it. Maybe Robert will have a better sense of this?)\n",
        "\n",
        "Next up I will change the priors. Doing so in their code is non-trivial, but I will work on that next week. "
      ]
    },
    {
      "cell_type": "code",
      "execution_count": 59,
      "metadata": {},
      "outputs": [],
      "source": [
        "def create_TG2001_samples(proportion):\n",
        "    e1c1, e1c0 = proportion\n",
        "    e0c1, e0c0 = 8-e1c1, 8-e1c0\n",
        "    samples = pd.DataFrame(np.array([[1,1]]*e1c1 + [[1,0]]*e1c0 + [[0,1]]*e0c1 + [[0,0]]*e0c0), columns=['E','C'])\n",
        "    samples = format_samples(samples)\n",
        "    return samples"
      ]
    },
    {
      "cell_type": "code",
      "execution_count": 60,
      "metadata": {},
      "outputs": [],
      "source": [
        "proportions = [(8, 8), (6, 6), (4, 4), (2, 2), (0, 0), (8, 6), (6, 4), (4, 2), (2, 0), (8, 4), (6, 2), (4, 0), (8, 2), (6, 0), (8, 0)]\n",
        "samples = [create_TG2001_samples(proportion) for proportion in proportions]"
      ]
    },
    {
      "cell_type": "code",
      "execution_count": 109,
      "metadata": {},
      "outputs": [
        {
          "name": "stderr",
          "output_type": "stream",
          "text": [
            "Training: 100%|██████████| 6000/6000 [07:04<00:00, 14.13it/s, epsilon=0.90, loss=0.00]  \n",
            "Sampling from posterior: 100%|██████████| 1000/1000 [00:01<00:00, 871.03it/s]\n"
          ]
        },
        {
          "name": "stdout",
          "output_type": "stream",
          "text": [
            "No ground truth provided.\n"
          ]
        },
        {
          "name": "stderr",
          "output_type": "stream",
          "text": [
            "Training: 100%|██████████| 6000/6000 [07:46<00:00, 12.86it/s, epsilon=0.90, loss=0.00]  \n",
            "Sampling from posterior: 100%|██████████| 1000/1000 [00:01<00:00, 971.69it/s]\n"
          ]
        },
        {
          "name": "stdout",
          "output_type": "stream",
          "text": [
            "No ground truth provided.\n"
          ]
        },
        {
          "name": "stderr",
          "output_type": "stream",
          "text": [
            "Training: 100%|██████████| 6000/6000 [07:28<00:00, 13.39it/s, epsilon=0.90, loss=0.00]  \n",
            "Sampling from posterior: 100%|██████████| 1000/1000 [00:01<00:00, 957.37it/s]"
          ]
        },
        {
          "name": "stdout",
          "output_type": "stream",
          "text": [
            "No ground truth provided.\n"
          ]
        },
        {
          "name": "stderr",
          "output_type": "stream",
          "text": [
            "\n",
            "Training: 100%|██████████| 6000/6000 [07:23<00:00, 13.54it/s, epsilon=0.90, loss=0.00]  \n",
            "Sampling from posterior: 100%|██████████| 1000/1000 [00:01<00:00, 948.65it/s]"
          ]
        },
        {
          "name": "stdout",
          "output_type": "stream",
          "text": [
            "No ground truth provided.\n"
          ]
        },
        {
          "name": "stderr",
          "output_type": "stream",
          "text": [
            "\n",
            "Training: 100%|██████████| 6000/6000 [49:08<00:00,  2.04it/s, epsilon=0.90, loss=0.00]     \n",
            "Sampling from posterior: 100%|██████████| 1000/1000 [00:01<00:00, 794.96it/s]"
          ]
        },
        {
          "name": "stdout",
          "output_type": "stream",
          "text": [
            "No ground truth provided.\n"
          ]
        },
        {
          "name": "stderr",
          "output_type": "stream",
          "text": [
            "\n",
            "Training: 100%|██████████| 6000/6000 [07:24<00:00, 13.51it/s, epsilon=0.90, loss=0.00]  \n",
            "Sampling from posterior: 100%|██████████| 1000/1000 [00:01<00:00, 697.41it/s]\n"
          ]
        },
        {
          "name": "stdout",
          "output_type": "stream",
          "text": [
            "No ground truth provided.\n"
          ]
        },
        {
          "name": "stderr",
          "output_type": "stream",
          "text": [
            "Training: 100%|██████████| 6000/6000 [07:29<00:00, 13.34it/s, epsilon=0.90, loss=0.00]  \n",
            "Sampling from posterior: 100%|██████████| 1000/1000 [00:01<00:00, 825.62it/s]"
          ]
        },
        {
          "name": "stdout",
          "output_type": "stream",
          "text": [
            "No ground truth provided.\n"
          ]
        },
        {
          "name": "stderr",
          "output_type": "stream",
          "text": [
            "\n",
            "Training: 100%|██████████| 6000/6000 [07:16<00:00, 13.75it/s, epsilon=0.90, loss=0.00]  \n",
            "Sampling from posterior: 100%|██████████| 1000/1000 [00:01<00:00, 839.74it/s]"
          ]
        },
        {
          "name": "stdout",
          "output_type": "stream",
          "text": [
            "No ground truth provided.\n"
          ]
        },
        {
          "name": "stderr",
          "output_type": "stream",
          "text": [
            "\n",
            "Training: 100%|██████████| 6000/6000 [07:17<00:00, 13.73it/s, epsilon=0.90, loss=0.00]  \n",
            "Sampling from posterior: 100%|██████████| 1000/1000 [00:01<00:00, 663.01it/s]"
          ]
        },
        {
          "name": "stdout",
          "output_type": "stream",
          "text": [
            "No ground truth provided.\n"
          ]
        },
        {
          "name": "stderr",
          "output_type": "stream",
          "text": [
            "\n",
            "Training: 100%|██████████| 6000/6000 [07:12<00:00, 13.86it/s, epsilon=0.90, loss=0.00]  \n",
            "Sampling from posterior: 100%|██████████| 1000/1000 [00:01<00:00, 573.96it/s]"
          ]
        },
        {
          "name": "stdout",
          "output_type": "stream",
          "text": [
            "No ground truth provided.\n"
          ]
        },
        {
          "name": "stderr",
          "output_type": "stream",
          "text": [
            "\n",
            "Training: 100%|██████████| 6000/6000 [07:08<00:00, 13.99it/s, epsilon=0.90, loss=0.00]  \n",
            "Sampling from posterior: 100%|██████████| 1000/1000 [00:01<00:00, 742.01it/s]\n"
          ]
        },
        {
          "name": "stdout",
          "output_type": "stream",
          "text": [
            "No ground truth provided.\n"
          ]
        },
        {
          "name": "stderr",
          "output_type": "stream",
          "text": [
            "Training: 100%|██████████| 6000/6000 [06:56<00:00, 14.42it/s, epsilon=0.90, loss=0.00]  \n",
            "Sampling from posterior: 100%|██████████| 1000/1000 [00:01<00:00, 661.62it/s]"
          ]
        },
        {
          "name": "stdout",
          "output_type": "stream",
          "text": [
            "No ground truth provided.\n"
          ]
        },
        {
          "name": "stderr",
          "output_type": "stream",
          "text": [
            "\n",
            "Training: 100%|██████████| 6000/6000 [06:54<00:00, 14.48it/s, epsilon=0.90, loss=0.00]  \n",
            "Sampling from posterior: 100%|██████████| 1000/1000 [00:01<00:00, 648.22it/s]"
          ]
        },
        {
          "name": "stdout",
          "output_type": "stream",
          "text": [
            "No ground truth provided.\n"
          ]
        },
        {
          "name": "stderr",
          "output_type": "stream",
          "text": [
            "\n",
            "Training: 100%|██████████| 6000/6000 [06:55<00:00, 14.45it/s, epsilon=0.90, loss=0.00]  \n",
            "Sampling from posterior: 100%|██████████| 1000/1000 [00:01<00:00, 681.75it/s]"
          ]
        },
        {
          "name": "stdout",
          "output_type": "stream",
          "text": [
            "No ground truth provided.\n"
          ]
        },
        {
          "name": "stderr",
          "output_type": "stream",
          "text": [
            "\n",
            "Training: 100%|██████████| 6000/6000 [07:00<00:00, 14.26it/s, epsilon=0.90, loss=0.00]  \n",
            "Sampling from posterior: 100%|██████████| 1000/1000 [00:01<00:00, 612.84it/s]\n"
          ]
        },
        {
          "name": "stdout",
          "output_type": "stream",
          "text": [
            "No ground truth provided.\n"
          ]
        }
      ],
      "source": [
        "for i, sample in enumerate(samples):\n",
        "    train_gflownet(model=None,samples=sample, num_iterations=5000,output_folder=f\"TGdata/TGdata{i}\")"
      ]
    },
    {
      "cell_type": "code",
      "execution_count": 127,
      "metadata": {},
      "outputs": [],
      "source": [
        "def prob_causal(dag,count):\n",
        "    num = count[np.where(np.all(dag == np.array([[0,0],[0,0]]), axis=(1,2)))]\n",
        "    if len(num) == 0:\n",
        "        num = 0\n",
        "    else:\n",
        "        num = num[0]\n",
        "    return (1000 - num)/1000\n",
        "    \n",
        "def log_odds_causal(dag,count):\n",
        "    prob = prob_causal(dag,count)\n",
        "    if prob == 1:\n",
        "        prob = 0.999\n",
        "    return np.log(prob/(1-prob))"
      ]
    },
    {
      "cell_type": "code",
      "execution_count": 128,
      "metadata": {},
      "outputs": [],
      "source": [
        "dags_TG = []\n",
        "counts_TG = []\n",
        "graphs_TG = []\n",
        "probs_causal_TG = []\n",
        "log_odds_TG = []\n",
        "for i in range(len(proportions)):\n",
        "    dag, count, graph = process_posterior(f\"TGdata/TGdata{i}/posterior.npy\",node_names=[\"E\",\"C\"])\n",
        "    dags_TG.append(dag)\n",
        "    counts_TG.append(count)\n",
        "    graphs_TG.append(graph)\n",
        "    probs_causal_TG.append(prob_causal(dag,count))\n",
        "    log_odds_TG.append(log_odds_causal(dag,count))"
      ]
    },
    {
      "cell_type": "code",
      "execution_count": 144,
      "metadata": {},
      "outputs": [
        {
          "data": {
            "image/png": "[encoded data removed]",
            "text/plain": [
              "<Figure size 640x480 with 1 Axes>"
            ]
          },
          "metadata": {},
          "output_type": "display_data"
        }
      ],
      "source": [
        "plt.bar(range(len(proportions)),probs_causal_TG)\n",
        "plt.xticks(range(len(proportions)),proportions,rotation=90)\n",
        "plt.ylabel(\"Probability of causal graph\")\n",
        "plt.show()"
      ]
    },
    {
      "attachments": {},
      "cell_type": "markdown",
      "metadata": {},
      "source": [
        "Human data repprted in T&G:"
      ]
    },
    {
      "cell_type": "code",
      "execution_count": 145,
      "metadata": {},
      "outputs": [
        {
          "data": {
            "image/png": "[encoded data removed]",
            "text/plain": [
              "<Figure size 640x480 with 1 Axes>"
            ]
          },
          "metadata": {},
          "output_type": "display_data"
        }
      ],
      "source": [
        "data = [41.10, 42.62, 36.60, 28.62, 9.46, 57.62, 47.06, 45.71, 33.69, 70.85, 54.02, 57.00, 76.54, 69.02, 88.54]\n",
        "plt.bar(range(len(proportions)),data)\n",
        "plt.xticks(range(len(proportions)),proportions,rotation=90)\n",
        "plt.ylabel(\"Human judgements of causation\")\n",
        "plt.show()\n"
      ]
    },
    {
      "cell_type": "code",
      "execution_count": 146,
      "metadata": {},
      "outputs": [
        {
          "name": "stdout",
          "output_type": "stream",
          "text": [
            "r=0.72,p=0.002\n"
          ]
        },
        {
          "data": {
            "image/png": "[encoded data removed]",
            "text/plain": [
              "<Figure size 640x480 with 1 Axes>"
            ]
          },
          "metadata": {},
          "output_type": "display_data"
        }
      ],
      "source": [
        "plt.scatter(data,probs_causal_TG)\n",
        "m, b = np.polyfit(data, probs_causal_TG, 1)\n",
        "plt.plot(data, m*np.array(data) + b)\n",
        "plt.xlabel(\"Human judgements of causation\")\n",
        "plt.ylabel(\"Probability of causal graph\")\n",
        "from scipy.stats import pearsonr\n",
        "r, p = pearsonr(data, probs_causal_TG)\n",
        "print(f\"{r=:.2f},{p=:.3f}\")"
      ]
    }
  ],
  "metadata": {
    "colab": {
      "provenance": []
    },
    "kernelspec": {
      "display_name": "Python 3",
      "name": "python3"
    },
    "language_info": {
      "codemirror_mode": {
        "name": "ipython",
        "version": 3
      },
      "file_extension": ".py",
      "mimetype": "text/x-python",
      "name": "python",
      "nbconvert_exporter": "python",
      "pygments_lexer": "ipython3",
      "version": "3.10.11"
    },
    "widgets": {
      "application/vnd.jupyter.widget-state+json": {
        "016db33219134da1a8018cba752a6b90": {
          "model_module": "@jupyter-widgets/controls",
          "model_module_version": "1.5.0",
          "model_name": "DescriptionStyleModel",
          "state": {
            "_model_module": "@jupyter-widgets/controls",
            "_model_module_version": "1.5.0",
            "_model_name": "DescriptionStyleModel",
            "_view_count": null,
            "_view_module": "@jupyter-widgets/base",
            "_view_module_version": "1.2.0",
            "_view_name": "StyleView",
            "description_width": ""
          }
        },
        "247508e6dfd5440f89ebcfec4da85e4e": {
          "model_module": "@jupyter-widgets/controls",
          "model_module_version": "1.5.0",
          "model_name": "HTMLModel",
          "state": {
            "_dom_classes": [],
            "_model_module": "@jupyter-widgets/controls",
            "_model_module_version": "1.5.0",
            "_model_name": "HTMLModel",
            "_view_count": null,
            "_view_module": "@jupyter-widgets/controls",
            "_view_module_version": "1.5.0",
            "_view_name": "HTMLView",
            "description": "",
            "description_tooltip": null,
            "layout": "IPY_MODEL_73ffc0e22bc34567a524c1a733304d4c",
            "placeholder": "​",
            "style": "IPY_MODEL_016db33219134da1a8018cba752a6b90",
            "value": "Sampling from posterior: 100%"
          }
        },
        "40c41e1043c0419d9206bc1e9930e473": {
          "model_module": "@jupyter-widgets/controls",
          "model_module_version": "1.5.0",
          "model_name": "FloatProgressModel",
          "state": {
            "_dom_classes": [],
            "_model_module": "@jupyter-widgets/controls",
            "_model_module_version": "1.5.0",
            "_model_name": "FloatProgressModel",
            "_view_count": null,
            "_view_module": "@jupyter-widgets/controls",
            "_view_module_version": "1.5.0",
            "_view_name": "ProgressView",
            "bar_style": "success",
            "description": "",
            "description_tooltip": null,
            "layout": "IPY_MODEL_8bde1aed959746adbb415a33ec8a6cdc",
            "max": 1000,
            "min": 0,
            "orientation": "horizontal",
            "style": "IPY_MODEL_51b17f6e4e0c403d96304232174b6d26",
            "value": 1000
          }
        },
        "51b17f6e4e0c403d96304232174b6d26": {
          "model_module": "@jupyter-widgets/controls",
          "model_module_version": "1.5.0",
          "model_name": "ProgressStyleModel",
          "state": {
            "_model_module": "@jupyter-widgets/controls",
            "_model_module_version": "1.5.0",
            "_model_name": "ProgressStyleModel",
            "_view_count": null,
            "_view_module": "@jupyter-widgets/base",
            "_view_module_version": "1.2.0",
            "_view_name": "StyleView",
            "bar_color": null,
            "description_width": ""
          }
        },
        "73ffc0e22bc34567a524c1a733304d4c": {
          "model_module": "@jupyter-widgets/base",
          "model_module_version": "1.2.0",
          "model_name": "LayoutModel",
          "state": {
            "_model_module": "@jupyter-widgets/base",
            "_model_module_version": "1.2.0",
            "_model_name": "LayoutModel",
            "_view_count": null,
            "_view_module": "@jupyter-widgets/base",
            "_view_module_version": "1.2.0",
            "_view_name": "LayoutView",
            "align_content": null,
            "align_items": null,
            "align_self": null,
            "border": null,
            "bottom": null,
            "display": null,
            "flex": null,
            "flex_flow": null,
            "grid_area": null,
            "grid_auto_columns": null,
            "grid_auto_flow": null,
            "grid_auto_rows": null,
            "grid_column": null,
            "grid_gap": null,
            "grid_row": null,
            "grid_template_areas": null,
            "grid_template_columns": null,
            "grid_template_rows": null,
            "height": null,
            "justify_content": null,
            "justify_items": null,
            "left": null,
            "margin": null,
            "max_height": null,
            "max_width": null,
            "min_height": null,
            "min_width": null,
            "object_fit": null,
            "object_position": null,
            "order": null,
            "overflow": null,
            "overflow_x": null,
            "overflow_y": null,
            "padding": null,
            "right": null,
            "top": null,
            "visibility": null,
            "width": null
          }
        },
        "8bde1aed959746adbb415a33ec8a6cdc": {
          "model_module": "@jupyter-widgets/base",
          "model_module_version": "1.2.0",
          "model_name": "LayoutModel",
          "state": {
            "_model_module": "@jupyter-widgets/base",
            "_model_module_version": "1.2.0",
            "_model_name": "LayoutModel",
            "_view_count": null,
            "_view_module": "@jupyter-widgets/base",
            "_view_module_version": "1.2.0",
            "_view_name": "LayoutView",
            "align_content": null,
            "align_items": null,
            "align_self": null,
            "border": null,
            "bottom": null,
            "display": null,
            "flex": null,
            "flex_flow": null,
            "grid_area": null,
            "grid_auto_columns": null,
            "grid_auto_flow": null,
            "grid_auto_rows": null,
            "grid_column": null,
            "grid_gap": null,
            "grid_row": null,
            "grid_template_areas": null,
            "grid_template_columns": null,
            "grid_template_rows": null,
            "height": null,
            "justify_content": null,
            "justify_items": null,
            "left": null,
            "margin": null,
            "max_height": null,
            "max_width": null,
            "min_height": null,
            "min_width": null,
            "object_fit": null,
            "object_position": null,
            "order": null,
            "overflow": null,
            "overflow_x": null,
            "overflow_y": null,
            "padding": null,
            "right": null,
            "top": null,
            "visibility": null,
            "width": null
          }
        },
        "8e414120cdcc41b5aae1a040dfba0367": {
          "model_module": "@jupyter-widgets/base",
          "model_module_version": "1.2.0",
          "model_name": "LayoutModel",
          "state": {
            "_model_module": "@jupyter-widgets/base",
            "_model_module_version": "1.2.0",
            "_model_name": "LayoutModel",
            "_view_count": null,
            "_view_module": "@jupyter-widgets/base",
            "_view_module_version": "1.2.0",
            "_view_name": "LayoutView",
            "align_content": null,
            "align_items": null,
            "align_self": null,
            "border": null,
            "bottom": null,
            "display": null,
            "flex": null,
            "flex_flow": null,
            "grid_area": null,
            "grid_auto_columns": null,
            "grid_auto_flow": null,
            "grid_auto_rows": null,
            "grid_column": null,
            "grid_gap": null,
            "grid_row": null,
            "grid_template_areas": null,
            "grid_template_columns": null,
            "grid_template_rows": null,
            "height": null,
            "justify_content": null,
            "justify_items": null,
            "left": null,
            "margin": null,
            "max_height": null,
            "max_width": null,
            "min_height": null,
            "min_width": null,
            "object_fit": null,
            "object_position": null,
            "order": null,
            "overflow": null,
            "overflow_x": null,
            "overflow_y": null,
            "padding": null,
            "right": null,
            "top": null,
            "visibility": null,
            "width": null
          }
        },
        "da92ffc7a1e54fedb1f20a45459606bf": {
          "model_module": "@jupyter-widgets/controls",
          "model_module_version": "1.5.0",
          "model_name": "HBoxModel",
          "state": {
            "_dom_classes": [],
            "_model_module": "@jupyter-widgets/controls",
            "_model_module_version": "1.5.0",
            "_model_name": "HBoxModel",
            "_view_count": null,
            "_view_module": "@jupyter-widgets/controls",
            "_view_module_version": "1.5.0",
            "_view_name": "HBoxView",
            "box_style": "",
            "children": [
              "IPY_MODEL_247508e6dfd5440f89ebcfec4da85e4e",
              "IPY_MODEL_40c41e1043c0419d9206bc1e9930e473",
              "IPY_MODEL_e8c51187ceac4d3eaad9126759a7fe49"
            ],
            "layout": "IPY_MODEL_8e414120cdcc41b5aae1a040dfba0367"
          }
        },
        "e8c51187ceac4d3eaad9126759a7fe49": {
          "model_module": "@jupyter-widgets/controls",
          "model_module_version": "1.5.0",
          "model_name": "HTMLModel",
          "state": {
            "_dom_classes": [],
            "_model_module": "@jupyter-widgets/controls",
            "_model_module_version": "1.5.0",
            "_model_name": "HTMLModel",
            "_view_count": null,
            "_view_module": "@jupyter-widgets/controls",
            "_view_module_version": "1.5.0",
            "_view_name": "HTMLView",
            "description": "",
            "description_tooltip": null,
            "layout": "IPY_MODEL_ee516ce92829437f8bf85be01af777fd",
            "placeholder": "​",
            "style": "IPY_MODEL_f005b4bdb0874ac089116d812171eb59",
            "value": " 1000/1000 [00:16&lt;00:00, 82.87it/s]"
          }
        },
        "ee516ce92829437f8bf85be01af777fd": {
          "model_module": "@jupyter-widgets/base",
          "model_module_version": "1.2.0",
          "model_name": "LayoutModel",
          "state": {
            "_model_module": "@jupyter-widgets/base",
            "_model_module_version": "1.2.0",
            "_model_name": "LayoutModel",
            "_view_count": null,
            "_view_module": "@jupyter-widgets/base",
            "_view_module_version": "1.2.0",
            "_view_name": "LayoutView",
            "align_content": null,
            "align_items": null,
            "align_self": null,
            "border": null,
            "bottom": null,
            "display": null,
            "flex": null,
            "flex_flow": null,
            "grid_area": null,
            "grid_auto_columns": null,
            "grid_auto_flow": null,
            "grid_auto_rows": null,
            "grid_column": null,
            "grid_gap": null,
            "grid_row": null,
            "grid_template_areas": null,
            "grid_template_columns": null,
            "grid_template_rows": null,
            "height": null,
            "justify_content": null,
            "justify_items": null,
            "left": null,
            "margin": null,
            "max_height": null,
            "max_width": null,
            "min_height": null,
            "min_width": null,
            "object_fit": null,
            "object_position": null,
            "order": null,
            "overflow": null,
            "overflow_x": null,
            "overflow_y": null,
            "padding": null,
            "right": null,
            "top": null,
            "visibility": null,
            "width": null
          }
        },
        "f005b4bdb0874ac089116d812171eb59": {
          "model_module": "@jupyter-widgets/controls",
          "model_module_version": "1.5.0",
          "model_name": "DescriptionStyleModel",
          "state": {
            "_model_module": "@jupyter-widgets/controls",
            "_model_module_version": "1.5.0",
            "_model_name": "DescriptionStyleModel",
            "_view_count": null,
            "_view_module": "@jupyter-widgets/base",
            "_view_module_version": "1.2.0",
            "_view_name": "StyleView",
            "description_width": ""
          }
        }
      }
    }
  },
  "nbformat": 4,
  "nbformat_minor": 0
}
