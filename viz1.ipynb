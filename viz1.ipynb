{
 "cells": [
  {
   "cell_type": "code",
   "execution_count": 1,
   "metadata": {},
   "outputs": [],
   "source": [
    "import pyan\n",
    "from IPython.display import HTML\n"
   ]
  },
  {
   "cell_type": "code",
   "execution_count": 4,
   "metadata": {},
   "outputs": [],
   "source": [
    "import graphviz"
   ]
  },
  {
   "cell_type": "code",
   "execution_count": 2,
   "metadata": {},
   "outputs": [],
   "source": [
    "import os\n",
    "\n",
    "root = os.getcwd()"
   ]
  },
  {
   "cell_type": "code",
   "execution_count": 5,
   "metadata": {},
   "outputs": [
    {
     "name": "stderr",
     "output_type": "stream",
     "text": [
      "/bin/sh: dot: command not found\n"
     ]
    },
    {
     "data": {
      "text/html": [
       "<!--\n",
       " * Copyright (c) 2015 Mountainstorm\n",
       " *\n",
       " * Permission is hereby granted, free of charge, to any person obtaining a copy\n",
       " * of this software and associated documentation files (the \"Software\"), to deal\n",
       " * in the Software without restriction, including without limitation the rights\n",
       " * to use, copy, modify, merge, publish, distribute, sublicense, and/or sell\n",
       " * copies of the Software, and to permit persons to whom the Software is\n",
       " * furnished to do so, subject to the following conditions:\n",
       " *\n",
       " * The above copyright notice and this permission notice shall be included in all\n",
       " * copies or substantial portions of the Software.\n",
       " *\n",
       " * THE SOFTWARE IS PROVIDED \"AS IS\", WITHOUT WARRANTY OF ANY KIND, EXPRESS OR\n",
       " * IMPLIED, INCLUDING BUT NOT LIMITED TO THE WARRANTIES OF MERCHANTABILITY,\n",
       " * FITNESS FOR A PARTICULAR PURPOSE AND NONINFRINGEMENT. IN NO EVENT SHALL THE\n",
       " * AUTHORS OR COPYRIGHT HOLDERS BE LIABLE FOR ANY CLAIM, DAMAGES OR OTHER\n",
       " * LIABILITY, WHETHER IN AN ACTION OF CONTRACT, TORT OR OTHERWISE, ARISING FROM,\n",
       " * OUT OF OR IN CONNECTION WITH THE SOFTWARE OR THE USE OR OTHER DEALINGS IN THE\n",
       " * SOFTWARE.\n",
       " *\n",
       " * Original from https://github.com/mountainstorm/jquery.graphviz.svg/blob/master/demo.html\n",
       " -->\n",
       "<html>\n",
       "\t<head>\n",
       "\t\t<link rel=\"stylesheet\" href=\"https://cdnjs.cloudflare.com/ajax/libs/twitter-bootstrap/3.3.4/css/bootstrap.min.css\">\n",
       "\t\t<!-- <link rel=\"stylesheet\" href=\"css/graphviz.svg.css\"> -->\n",
       "\t</head>\n",
       "\n",
       "\t<style>\n",
       "        #instructions {\n",
       "            color: #000000;\n",
       "            position: absolute;\n",
       "            z-index: 100;\n",
       "            bottom: 0px;\n",
       "            left: 0px;\n",
       "        }\n",
       "    </style>\n",
       "\t<body>\n",
       "\t\t<h4 id=\"instructions\">Click node to highlight; Shift-scroll to zoom; Esc to unhighlight</h4>\n",
       "\t\t<div id=\"graph\" style=\"width: 100%; height: 100%; overflow: scroll;\"></div>\n",
       "\n",
       "\t\t<script type=\"text/javascript\" src=\"https://code.jquery.com/jquery-2.1.3.min.js\"></script>\n",
       "\t\t<script type=\"text/javascript\" src=\"https://cdn.rawgit.com/jquery/jquery-mousewheel/master/jquery.mousewheel.min.js\"></script>\n",
       "\t\t<script type=\"text/javascript\" src=\"https://cdn.rawgit.com/jquery/jquery-color/master/jquery.color.js\"></script>\n",
       "\t\t<script type=\"text/javascript\" src=\"https://cdnjs.cloudflare.com/ajax/libs/twitter-bootstrap/3.3.4/js/bootstrap.min.js\"></script>\n",
       "\t\t<script type=\"text/javascript\">!function(t){\"use strict\";String.prototype.startsWith=function(t){return 0==this.indexOf(t)},String.prototype.endsWith=function(t){return-1!==this.indexOf(t,this.length-t.length)};var e=function(t,e){this.type=null,this.options=null,this.enabled=null,this.$element=null,this.init(\"graphviz.svg\",t,e)};e.VERSION=\"1.0.1\",e.GVPT_2_PX=32.5,e.DEFAULTS={url:null,svg:null,shrink:\"0.125pt\",tooltips:{init:function(e){var i=t(this);i.tooltip({container:e,placement:\"auto left\",animation:!1,viewport:null}).on(\"hide.bs.tooltip\",function(){if(i.attr(\"data-tooltip-keepvisible\"))return!1})},show:function(){var e=t(this);e.attr(\"data-tooltip-keepvisible\",!0),e.tooltip(\"show\")},hide:function(){var e=t(this);e.removeAttr(\"data-tooltip-keepvisible\"),e.tooltip(\"hide\")},update:function(){var e=t(this);e.attr(\"data-tooltip-keepvisible\")&&e.tooltip(\"show\")}},zoom:!0,highlight:{selected:function(t,e){return t},unselected:function(t,e){return jQuery.Color(t).transition(e,.9)}},ready:null},e.prototype.init=function(e,i,n){if(this.enabled=!0,this.type=e,this.$element=t(i),this.options=this.getOptions(n),n.url){var o=this;t.get(n.url,null,function(e){var i=t(\"svg\",e);o.$element.html(document.adoptNode(i[0])),o.setup()},\"xml\")}else n.svg&&this.$element.html(n.svg),this.setup()},e.prototype.getDefaults=function(){return e.DEFAULTS},e.prototype.getOptions=function(e){return(e=t.extend({},this.getDefaults(),this.$element.data(),e)).shrink&&(\"object\"!=typeof e.shrink&&(e.shrink={x:e.shrink,y:e.shrink}),e.shrink.x=this.convertToPx(e.shrink.x),e.shrink.y=this.convertToPx(e.shrink.y)),e},e.prototype.setup=function(){var e=this.options,i=t(this.$element.children(\"svg\")),n=i.children(\"g:first\");this.$svg=i,this.$graph=n,this.$background=n.children(\"polygon:first\"),this.$nodes=n.children(\".node\"),this.$edges=n.children(\".edge\"),this._nodesByName={},this._edgesByName={},this.$element.addClass(\"graphviz-svg\"),this.$background.length&&this.$element.css(\"background\",this.$background.attr(\"fill\"));var o=this;this.$nodes.each(function(){o.setupNodesEdges(t(this),!0)}),this.$edges.each(function(){o.setupNodesEdges(t(this),!1)});var r=this.$graph.children(\"title\");this.$graph.attr(\"data-name\",r.text()),r.remove(),e.zoom&&this.setupZoom(),e.ready&&e.ready.call(this)},e.prototype.setupNodesEdges=function(e,i){var n=this,o=this.options;e.find(\"polygon, ellipse, path\").each(function(){var e=t(this);e.data(\"graphviz.svg.color\",{fill:e.attr(\"fill\"),stroke:e.attr(\"stroke\")}),i&&o.shrink&&n.scaleNode(e)});var r,s,h=e.children(\"title\");if(h[0]){var a=h.text().replace(/:[snew][ew]?/g,\"\");e.attr(\"data-name\",a),h.remove(),i?this._nodesByName[a]=e[0]:this._edgesByName[a]=e[0];for(var l=e[0].previousSibling;l&&8!=l.nodeType;)l=l.previousSibling;if(null!=l&&8==l.nodeType){var p=(r=l.nodeValue.trim(),(s=document.createElement(\"div\")).innerHTML=r,s.childNodes[0].nodeValue);p!=a&&e.attr(\"data-comment\",p)}}e.children(\"a\").filter(function(){return t(this).attr(\"xlink:title\")}).each(function(){var e=t(this);e.attr(\"title\",e.attr(\"xlink:title\")),e.removeAttr(\"xlink:title\"),o.tooltips&&o.tooltips.init.call(this,n.$element)})},e.prototype.setupZoom=function(){var t=this,e=this.$element,i=this.$svg;this.zoom={width:i.attr(\"width\"),height:i.attr(\"height\"),percentage:null},this.scaleView(100),e.mousewheel(function(n){if(n.shiftKey){var o=t.zoom.percentage;(o-=n.deltaY*n.deltaFactor)<100&&(o=100);var r=n.pageX-i.offset().left,s=n.pageY-i.offset().top,h=r/i.width(),a=s/i.height(),l=n.pageX-e.offset().left,p=n.pageY-e.offset().top;return t.scaleView(o),e.scrollLeft(h*i.width()+.5-l),e.scrollTop(a*i.height()+.5-p),!1}})},e.prototype.scaleView=function(t){var e=this,i=this.$svg;i.attr(\"width\",t+\"%\"),i.attr(\"height\",t+\"%\"),this.zoom.percentage=t,this.$nodes.add(this.$edges).children(\"a[title]\").each(function(){e.options.tooltips.update.call(this)})},e.prototype.scaleNode=function(t){var e=this.options.shrink.x,i=this.options.shrink.y,n=t.prop(\"tagName\");if(\"ellipse\"==n)t.attr(\"rx\",parseFloat(t.attr(\"rx\"))-e),t.attr(\"ry\",parseFloat(t.attr(\"ry\"))-i);else if(\"polygon\"==n){var o=t[0].getBBox(),r=o.x+o.width/2,s=o.y+o.height/2,h=t.attr(\"points\").split(\" \"),a=\"\";for(var l in h){var p=h[l].split(\",\"),d=parseFloat(p[0]),u=parseFloat(p[1]);a+=(r-d)/(o.width/2)*e+d+\",\"+((s-u)/(o.height/2)*i+u)+\" \"}t.attr(\"points\",a)}},e.prototype.convertToPx=function(t){var i=t;if(\"string\"==typeof t){var n=t.length,o=1;t.endsWith(\"px\")?n-=2:t.endsWith(\"pt\")&&(n-=2,o=e.GVPT_2_PX),i=parseFloat(t.substring(0,n))*o}return i},e.prototype.findEdge=function(t,e,i){var n=[];for(var o in this._edgesByName){var r=e(t,o);r&&(i&&i.push(this._edgesByName[o]),n.push(r))}return n},e.prototype.findLinked=function(e,i,n,o){var r=t(e),s=null;i&&(s=o);var h=this.findEdge(r.attr(\"data-name\"),n,s);for(var a in h){var l=this._nodesByName[h[a]];o.is(l)||(o.push(l),this.findLinked(l,i,n,o))}},e.prototype.colorElement=function(e,i){var n=this.$element.css(\"background\");e.find(\"polygon, ellipse, path\").each(function(){var e=t(this),o=e.data(\"graphviz.svg.color\");o.fill&&\"path\"!=e.prop(\"tagName\")&&e.attr(\"fill\",i(o.fill,n)),o.stroke&&e.attr(\"stroke\",i(o.stroke,n))})},e.prototype.restoreElement=function(e){e.find(\"polygon, ellipse, path\").each(function(){var e=t(this),i=e.data(\"graphviz.svg.color\");i.fill&&e.attr(\"fill\",i.fill),i.stroke&&e.attr(\"stroke\",i.stroke)})},e.prototype.nodes=function(){return this.$nodes},e.prototype.edges=function(){return this.$edges},e.prototype.nodesByName=function(){return this._nodesByName},e.prototype.edgesByName=function(){return this._edgesByName},e.prototype.linkedTo=function(e,i){var n=t();return this.findLinked(e,i,function(t,e){var i=null,n=\"->\"+t;return e.endsWith(n)&&(i=e.substring(0,e.length-n.length)),i},n),n},e.prototype.linkedFrom=function(e,i){var n=t();return this.findLinked(e,i,function(t,e){var i=null,n=t+\"->\";return e.startsWith(n)&&(i=e.substring(n.length)),i},n),n},e.prototype.linked=function(e,i){var n=t();return this.findLinked(e,i,function(t,e){return\"^\"+name+\"--(.*)$\"},n),this.findLinked(e,i,function(t,e){return\"^(.*)--\"+name+\"$\"},n),n},e.prototype.tooltip=function(e,i){var n=this.options;e.each(function(){t(this).children(\"a[title]\").each(function(){i?n.tooltips.show.call(this):n.tooltips.hide.call(this)})})},e.prototype.bringToFront=function(t){t.detach().appendTo(this.$graph)},e.prototype.sendToBack=function(t){this.$background.length?$element.insertAfter(this.$background):t.detach().prependTo(this.$graph)},e.prototype.highlight=function(e,i){var n=this,o=this.options,r=this.$nodes.add(this.$edges);e&&e.length>0?(r.not(e).each(function(){n.colorElement(t(this),o.highlight.unselected),n.tooltip(t(this))}),e.each(function(){n.colorElement(t(this),o.highlight.selected)}),i&&this.tooltip(e,!0)):(r.each(function(){n.restoreElement(t(this))}),this.tooltip(r))},e.prototype.destroy=function(){var t=this;this.hide(function(){t.$element.off(\".\"+t.type).removeData(t.type)})};var i=t.fn.graphviz;t.fn.graphviz=function(i){return this.each(function(){var n=t(this),o=n.data(\"graphviz.svg\"),r=\"object\"==typeof i&&i;!o&&/destroy/.test(i)||(o||n.data(\"graphviz.svg\",o=new e(this,r)),\"string\"==typeof i&&o[i]())})},t.fn.graphviz.Constructor=e,t.fn.graphviz.noConflict=function(){return t.fn.graphviz=i,this}}(jQuery);</script>\n",
       "\t\t<script type=\"text/javascript\">\n",
       " \t\t\t$(document).ready(function(){\n",
       "                $(\"#graph\").graphviz({\n",
       "                    svg: ``,\n",
       "                    ready: function() {\n",
       "                        var gv = this\n",
       "                        gv.nodes().click(function () {\n",
       "                            var $set = $()\n",
       "                            $set.push(this)\n",
       "                            $set = $set.add(gv.linkedFrom(this, true))\n",
       "                            $set = $set.add(gv.linkedTo(this, true))\n",
       "                            gv.highlight($set, true)\n",
       "                            gv.bringToFront($set)\n",
       "                        })\n",
       "                        $(document).keydown(function (evt) {\n",
       "                            if (evt.keyCode == 27) {\n",
       "                                gv.highlight()\n",
       "                            }\n",
       "                        })\n",
       "                    }\n",
       "                });\n",
       "            });\n",
       "\t\t</script>\n",
       "\t</body>\n",
       "</html>"
      ],
      "text/plain": [
       "<IPython.core.display.HTML object>"
      ]
     },
     "execution_count": 5,
     "metadata": {},
     "output_type": "execute_result"
    }
   ],
   "source": [
    "HTML(pyan.create_callgraph(filenames=f\"{root}/train.py\", format=\"html\"))"
   ]
  }
 ],
 "metadata": {
  "kernelspec": {
   "display_name": "pyan-viz",
   "language": "python",
   "name": "python3"
  },
  "language_info": {
   "codemirror_mode": {
    "name": "ipython",
    "version": 3
   },
   "file_extension": ".py",
   "mimetype": "text/x-python",
   "name": "python",
   "nbconvert_exporter": "python",
   "pygments_lexer": "ipython3",
   "version": "3.11.6"
  },
  "orig_nbformat": 4
 },
 "nbformat": 4,
 "nbformat_minor": 2
}
